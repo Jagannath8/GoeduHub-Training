{
  "nbformat": 4,
  "nbformat_minor": 0,
  "metadata": {
    "colab": {
      "name": "Assignment_5.ipynb",
      "provenance": [],
      "authorship_tag": "ABX9TyNlSeLk4kc2WBULejzGq+/l",
      "include_colab_link": true
    },
    "kernelspec": {
      "name": "python3",
      "display_name": "Python 3"
    },
    "language_info": {
      "name": "python"
    }
  },
  "cells": [
    {
      "cell_type": "markdown",
      "metadata": {
        "id": "view-in-github",
        "colab_type": "text"
      },
      "source": [
        "<a href=\"https://colab.research.google.com/github/Jagannath8/GoeduHub-Training/blob/main/Assignment_5.ipynb\" target=\"_parent\"><img src=\"https://colab.research.google.com/assets/colab-badge.svg\" alt=\"Open In Colab\"/></a>"
      ]
    },
    {
      "cell_type": "markdown",
      "metadata": {
        "id": "6EZVhNhfWR-2"
      },
      "source": [
        "# **GO_STP_579 -> Jagannath Pal**"
      ]
    },
    {
      "cell_type": "markdown",
      "metadata": {
        "id": "tCo1d_qhWWRb"
      },
      "source": [
        "# ***Assignment_4***\n",
        "\n",
        "---\n"
      ]
    },
    {
      "cell_type": "markdown",
      "metadata": {
        "id": "EYwYpNzwWx3H"
      },
      "source": [
        "# Pandas - Data Analysis of IMDB movies data\n",
        "As we have a basic understanding of the different data structures in Pandas, let’s explore the fun and interesting ‘IMDB-movies-dataset’ and get our hands dirty by performing practical data analysis on real data.\n",
        "\n",
        "\n",
        "It is an open-source dataset and you can download it from this link.\n",
        "\n",
        "We will read the data from the .csv file and perform the following basic operations on movies data"
      ]
    },
    {
      "cell_type": "markdown",
      "metadata": {
        "id": "WzHWmEY4W4yU"
      },
      "source": [
        "# 1. Load the IMDb Dataset and read"
      ]
    },
    {
      "cell_type": "code",
      "metadata": {
        "id": "7BN17h7IW-3F"
      },
      "source": [
        "import numpy as np\n",
        "import pandas as pd\n",
        "df = pd.DataFrame()\n",
        "df = pd.read_csv(\"IMDB-Movie-Data.csv\")\n"
      ],
      "execution_count": 2,
      "outputs": []
    },
    {
      "cell_type": "markdown",
      "metadata": {
        "id": "Y_QRz4izXlvz"
      },
      "source": [
        "\n",
        "\n",
        "---\n",
        "\n"
      ]
    },
    {
      "cell_type": "markdown",
      "metadata": {
        "id": "xM9CPBS2Xmwb"
      },
      "source": [
        "# 2. View the dataset "
      ]
    },
    {
      "cell_type": "code",
      "metadata": {
        "colab": {
          "base_uri": "https://localhost:8080/",
          "height": 586
        },
        "id": "YsDkPY3cXq0m",
        "outputId": "a90b0a10-7d8b-46a7-9b30-87d002098d1e"
      },
      "source": [
        "df"
      ],
      "execution_count": 3,
      "outputs": [
        {
          "output_type": "execute_result",
          "data": {
            "text/html": [
              "<div>\n",
              "<style scoped>\n",
              "    .dataframe tbody tr th:only-of-type {\n",
              "        vertical-align: middle;\n",
              "    }\n",
              "\n",
              "    .dataframe tbody tr th {\n",
              "        vertical-align: top;\n",
              "    }\n",
              "\n",
              "    .dataframe thead th {\n",
              "        text-align: right;\n",
              "    }\n",
              "</style>\n",
              "<table border=\"1\" class=\"dataframe\">\n",
              "  <thead>\n",
              "    <tr style=\"text-align: right;\">\n",
              "      <th></th>\n",
              "      <th>Rank</th>\n",
              "      <th>Title</th>\n",
              "      <th>Genre</th>\n",
              "      <th>Description</th>\n",
              "      <th>Director</th>\n",
              "      <th>Actors</th>\n",
              "      <th>Year</th>\n",
              "      <th>Runtime (Minutes)</th>\n",
              "      <th>Rating</th>\n",
              "      <th>Votes</th>\n",
              "      <th>Revenue (Millions)</th>\n",
              "      <th>Metascore</th>\n",
              "    </tr>\n",
              "  </thead>\n",
              "  <tbody>\n",
              "    <tr>\n",
              "      <th>0</th>\n",
              "      <td>1</td>\n",
              "      <td>Guardians of the Galaxy</td>\n",
              "      <td>Action,Adventure,Sci-Fi</td>\n",
              "      <td>A group of intergalactic criminals are forced ...</td>\n",
              "      <td>James Gunn</td>\n",
              "      <td>Chris Pratt, Vin Diesel, Bradley Cooper, Zoe S...</td>\n",
              "      <td>2014</td>\n",
              "      <td>121</td>\n",
              "      <td>8.1</td>\n",
              "      <td>757074</td>\n",
              "      <td>333.13</td>\n",
              "      <td>76.0</td>\n",
              "    </tr>\n",
              "    <tr>\n",
              "      <th>1</th>\n",
              "      <td>2</td>\n",
              "      <td>Prometheus</td>\n",
              "      <td>Adventure,Mystery,Sci-Fi</td>\n",
              "      <td>Following clues to the origin of mankind, a te...</td>\n",
              "      <td>Ridley Scott</td>\n",
              "      <td>Noomi Rapace, Logan Marshall-Green, Michael Fa...</td>\n",
              "      <td>2012</td>\n",
              "      <td>124</td>\n",
              "      <td>7.0</td>\n",
              "      <td>485820</td>\n",
              "      <td>126.46</td>\n",
              "      <td>65.0</td>\n",
              "    </tr>\n",
              "    <tr>\n",
              "      <th>2</th>\n",
              "      <td>3</td>\n",
              "      <td>Split</td>\n",
              "      <td>Horror,Thriller</td>\n",
              "      <td>Three girls are kidnapped by a man with a diag...</td>\n",
              "      <td>M. Night Shyamalan</td>\n",
              "      <td>James McAvoy, Anya Taylor-Joy, Haley Lu Richar...</td>\n",
              "      <td>2016</td>\n",
              "      <td>117</td>\n",
              "      <td>7.3</td>\n",
              "      <td>157606</td>\n",
              "      <td>138.12</td>\n",
              "      <td>62.0</td>\n",
              "    </tr>\n",
              "    <tr>\n",
              "      <th>3</th>\n",
              "      <td>4</td>\n",
              "      <td>Sing</td>\n",
              "      <td>Animation,Comedy,Family</td>\n",
              "      <td>In a city of humanoid animals, a hustling thea...</td>\n",
              "      <td>Christophe Lourdelet</td>\n",
              "      <td>Matthew McConaughey,Reese Witherspoon, Seth Ma...</td>\n",
              "      <td>2016</td>\n",
              "      <td>108</td>\n",
              "      <td>7.2</td>\n",
              "      <td>60545</td>\n",
              "      <td>270.32</td>\n",
              "      <td>59.0</td>\n",
              "    </tr>\n",
              "    <tr>\n",
              "      <th>4</th>\n",
              "      <td>5</td>\n",
              "      <td>Suicide Squad</td>\n",
              "      <td>Action,Adventure,Fantasy</td>\n",
              "      <td>A secret government agency recruits some of th...</td>\n",
              "      <td>David Ayer</td>\n",
              "      <td>Will Smith, Jared Leto, Margot Robbie, Viola D...</td>\n",
              "      <td>2016</td>\n",
              "      <td>123</td>\n",
              "      <td>6.2</td>\n",
              "      <td>393727</td>\n",
              "      <td>325.02</td>\n",
              "      <td>40.0</td>\n",
              "    </tr>\n",
              "    <tr>\n",
              "      <th>...</th>\n",
              "      <td>...</td>\n",
              "      <td>...</td>\n",
              "      <td>...</td>\n",
              "      <td>...</td>\n",
              "      <td>...</td>\n",
              "      <td>...</td>\n",
              "      <td>...</td>\n",
              "      <td>...</td>\n",
              "      <td>...</td>\n",
              "      <td>...</td>\n",
              "      <td>...</td>\n",
              "      <td>...</td>\n",
              "    </tr>\n",
              "    <tr>\n",
              "      <th>995</th>\n",
              "      <td>996</td>\n",
              "      <td>Secret in Their Eyes</td>\n",
              "      <td>Crime,Drama,Mystery</td>\n",
              "      <td>A tight-knit team of rising investigators, alo...</td>\n",
              "      <td>Billy Ray</td>\n",
              "      <td>Chiwetel Ejiofor, Nicole Kidman, Julia Roberts...</td>\n",
              "      <td>2015</td>\n",
              "      <td>111</td>\n",
              "      <td>6.2</td>\n",
              "      <td>27585</td>\n",
              "      <td>NaN</td>\n",
              "      <td>45.0</td>\n",
              "    </tr>\n",
              "    <tr>\n",
              "      <th>996</th>\n",
              "      <td>997</td>\n",
              "      <td>Hostel: Part II</td>\n",
              "      <td>Horror</td>\n",
              "      <td>Three American college students studying abroa...</td>\n",
              "      <td>Eli Roth</td>\n",
              "      <td>Lauren German, Heather Matarazzo, Bijou Philli...</td>\n",
              "      <td>2007</td>\n",
              "      <td>94</td>\n",
              "      <td>5.5</td>\n",
              "      <td>73152</td>\n",
              "      <td>17.54</td>\n",
              "      <td>46.0</td>\n",
              "    </tr>\n",
              "    <tr>\n",
              "      <th>997</th>\n",
              "      <td>998</td>\n",
              "      <td>Step Up 2: The Streets</td>\n",
              "      <td>Drama,Music,Romance</td>\n",
              "      <td>Romantic sparks occur between two dance studen...</td>\n",
              "      <td>Jon M. Chu</td>\n",
              "      <td>Robert Hoffman, Briana Evigan, Cassie Ventura,...</td>\n",
              "      <td>2008</td>\n",
              "      <td>98</td>\n",
              "      <td>6.2</td>\n",
              "      <td>70699</td>\n",
              "      <td>58.01</td>\n",
              "      <td>50.0</td>\n",
              "    </tr>\n",
              "    <tr>\n",
              "      <th>998</th>\n",
              "      <td>999</td>\n",
              "      <td>Search Party</td>\n",
              "      <td>Adventure,Comedy</td>\n",
              "      <td>A pair of friends embark on a mission to reuni...</td>\n",
              "      <td>Scot Armstrong</td>\n",
              "      <td>Adam Pally, T.J. Miller, Thomas Middleditch,Sh...</td>\n",
              "      <td>2014</td>\n",
              "      <td>93</td>\n",
              "      <td>5.6</td>\n",
              "      <td>4881</td>\n",
              "      <td>NaN</td>\n",
              "      <td>22.0</td>\n",
              "    </tr>\n",
              "    <tr>\n",
              "      <th>999</th>\n",
              "      <td>1000</td>\n",
              "      <td>Nine Lives</td>\n",
              "      <td>Comedy,Family,Fantasy</td>\n",
              "      <td>A stuffy businessman finds himself trapped ins...</td>\n",
              "      <td>Barry Sonnenfeld</td>\n",
              "      <td>Kevin Spacey, Jennifer Garner, Robbie Amell,Ch...</td>\n",
              "      <td>2016</td>\n",
              "      <td>87</td>\n",
              "      <td>5.3</td>\n",
              "      <td>12435</td>\n",
              "      <td>19.64</td>\n",
              "      <td>11.0</td>\n",
              "    </tr>\n",
              "  </tbody>\n",
              "</table>\n",
              "<p>1000 rows × 12 columns</p>\n",
              "</div>"
            ],
            "text/plain": [
              "     Rank                    Title  ... Revenue (Millions) Metascore\n",
              "0       1  Guardians of the Galaxy  ...             333.13      76.0\n",
              "1       2               Prometheus  ...             126.46      65.0\n",
              "2       3                    Split  ...             138.12      62.0\n",
              "3       4                     Sing  ...             270.32      59.0\n",
              "4       5            Suicide Squad  ...             325.02      40.0\n",
              "..    ...                      ...  ...                ...       ...\n",
              "995   996     Secret in Their Eyes  ...                NaN      45.0\n",
              "996   997          Hostel: Part II  ...              17.54      46.0\n",
              "997   998   Step Up 2: The Streets  ...              58.01      50.0\n",
              "998   999             Search Party  ...                NaN      22.0\n",
              "999  1000               Nine Lives  ...              19.64      11.0\n",
              "\n",
              "[1000 rows x 12 columns]"
            ]
          },
          "metadata": {
            "tags": []
          },
          "execution_count": 3
        }
      ]
    },
    {
      "cell_type": "markdown",
      "metadata": {
        "id": "DQeAk9QvY8wv"
      },
      "source": [
        "\n",
        "\n",
        "---\n",
        "\n"
      ]
    },
    {
      "cell_type": "markdown",
      "metadata": {
        "id": "CQo4jNbxY_lF"
      },
      "source": [
        "# 3. Understand some basic information about the dataset and Inspect the dataframe Inspect the dataframe's columns, shapes, variable types etc."
      ]
    },
    {
      "cell_type": "code",
      "metadata": {
        "colab": {
          "base_uri": "https://localhost:8080/",
          "height": 0
        },
        "id": "jwDZjx0wZEEV",
        "outputId": "49d92724-3867-4d58-fbcf-f0b7ee3bec2e"
      },
      "source": [
        "df.ndim"
      ],
      "execution_count": 4,
      "outputs": [
        {
          "output_type": "execute_result",
          "data": {
            "text/plain": [
              "2"
            ]
          },
          "metadata": {
            "tags": []
          },
          "execution_count": 4
        }
      ]
    },
    {
      "cell_type": "code",
      "metadata": {
        "colab": {
          "base_uri": "https://localhost:8080/",
          "height": 0
        },
        "id": "t0eRFAbUZzKu",
        "outputId": "61b361cf-47da-45a4-b108-c3bf0744c78f"
      },
      "source": [
        "df.shape"
      ],
      "execution_count": 5,
      "outputs": [
        {
          "output_type": "execute_result",
          "data": {
            "text/plain": [
              "(1000, 12)"
            ]
          },
          "metadata": {
            "tags": []
          },
          "execution_count": 5
        }
      ]
    },
    {
      "cell_type": "code",
      "metadata": {
        "colab": {
          "base_uri": "https://localhost:8080/",
          "height": 0
        },
        "id": "hzYxxdcPZ3E2",
        "outputId": "9f3f6beb-daa7-4df3-c668-14867a9c635d"
      },
      "source": [
        "df.size"
      ],
      "execution_count": 6,
      "outputs": [
        {
          "output_type": "execute_result",
          "data": {
            "text/plain": [
              "12000"
            ]
          },
          "metadata": {
            "tags": []
          },
          "execution_count": 6
        }
      ]
    },
    {
      "cell_type": "code",
      "metadata": {
        "colab": {
          "base_uri": "https://localhost:8080/",
          "height": 0
        },
        "id": "Eg2HNdTWZ6T7",
        "outputId": "725a4773-56ac-42ab-9cf8-889f4335f566"
      },
      "source": [
        "df.dtypes"
      ],
      "execution_count": 7,
      "outputs": [
        {
          "output_type": "execute_result",
          "data": {
            "text/plain": [
              "Rank                    int64\n",
              "Title                  object\n",
              "Genre                  object\n",
              "Description            object\n",
              "Director               object\n",
              "Actors                 object\n",
              "Year                    int64\n",
              "Runtime (Minutes)       int64\n",
              "Rating                float64\n",
              "Votes                   int64\n",
              "Revenue (Millions)    float64\n",
              "Metascore             float64\n",
              "dtype: object"
            ]
          },
          "metadata": {
            "tags": []
          },
          "execution_count": 7
        }
      ]
    },
    {
      "cell_type": "code",
      "metadata": {
        "colab": {
          "base_uri": "https://localhost:8080/",
          "height": 0
        },
        "id": "bbvjSu0fZ8hx",
        "outputId": "0d39499b-98a4-4b52-cfae-902d28183e4f"
      },
      "source": [
        "df.columns"
      ],
      "execution_count": 8,
      "outputs": [
        {
          "output_type": "execute_result",
          "data": {
            "text/plain": [
              "Index(['Rank', 'Title', 'Genre', 'Description', 'Director', 'Actors', 'Year',\n",
              "       'Runtime (Minutes)', 'Rating', 'Votes', 'Revenue (Millions)',\n",
              "       'Metascore'],\n",
              "      dtype='object')"
            ]
          },
          "metadata": {
            "tags": []
          },
          "execution_count": 8
        }
      ]
    },
    {
      "cell_type": "code",
      "metadata": {
        "colab": {
          "base_uri": "https://localhost:8080/",
          "height": 0
        },
        "id": "_1R4_mRWaBrR",
        "outputId": "d7bdbee1-ccef-450a-8391-ae35a4af8b71"
      },
      "source": [
        "df.axes"
      ],
      "execution_count": 9,
      "outputs": [
        {
          "output_type": "execute_result",
          "data": {
            "text/plain": [
              "[RangeIndex(start=0, stop=1000, step=1),\n",
              " Index(['Rank', 'Title', 'Genre', 'Description', 'Director', 'Actors', 'Year',\n",
              "        'Runtime (Minutes)', 'Rating', 'Votes', 'Revenue (Millions)',\n",
              "        'Metascore'],\n",
              "       dtype='object')]"
            ]
          },
          "metadata": {
            "tags": []
          },
          "execution_count": 9
        }
      ]
    },
    {
      "cell_type": "code",
      "metadata": {
        "colab": {
          "base_uri": "https://localhost:8080/",
          "height": 0
        },
        "id": "apKtyBLWaGg0",
        "outputId": "fbe27686-a71b-4754-9ead-6965712e521b"
      },
      "source": [
        "type(df)"
      ],
      "execution_count": 10,
      "outputs": [
        {
          "output_type": "execute_result",
          "data": {
            "text/plain": [
              "pandas.core.frame.DataFrame"
            ]
          },
          "metadata": {
            "tags": []
          },
          "execution_count": 10
        }
      ]
    },
    {
      "cell_type": "code",
      "metadata": {
        "colab": {
          "base_uri": "https://localhost:8080/",
          "height": 0
        },
        "id": "w3pil5ehaK0E",
        "outputId": "d22aa36d-54c3-4fce-d789-ccee670bd53a"
      },
      "source": [
        "df.values"
      ],
      "execution_count": 11,
      "outputs": [
        {
          "output_type": "execute_result",
          "data": {
            "text/plain": [
              "array([[1, 'Guardians of the Galaxy', 'Action,Adventure,Sci-Fi', ...,\n",
              "        757074, 333.13, 76.0],\n",
              "       [2, 'Prometheus', 'Adventure,Mystery,Sci-Fi', ..., 485820, 126.46,\n",
              "        65.0],\n",
              "       [3, 'Split', 'Horror,Thriller', ..., 157606, 138.12, 62.0],\n",
              "       ...,\n",
              "       [998, 'Step Up 2: The Streets', 'Drama,Music,Romance', ..., 70699,\n",
              "        58.01, 50.0],\n",
              "       [999, 'Search Party', 'Adventure,Comedy', ..., 4881, nan, 22.0],\n",
              "       [1000, 'Nine Lives', 'Comedy,Family,Fantasy', ..., 12435, 19.64,\n",
              "        11.0]], dtype=object)"
            ]
          },
          "metadata": {
            "tags": []
          },
          "execution_count": 11
        }
      ]
    },
    {
      "cell_type": "code",
      "metadata": {
        "colab": {
          "base_uri": "https://localhost:8080/",
          "height": 284
        },
        "id": "X9sC8CLeaTOG",
        "outputId": "a7a91947-aeac-454a-923b-b2b4bc88944d"
      },
      "source": [
        "df.describe()"
      ],
      "execution_count": 12,
      "outputs": [
        {
          "output_type": "execute_result",
          "data": {
            "text/html": [
              "<div>\n",
              "<style scoped>\n",
              "    .dataframe tbody tr th:only-of-type {\n",
              "        vertical-align: middle;\n",
              "    }\n",
              "\n",
              "    .dataframe tbody tr th {\n",
              "        vertical-align: top;\n",
              "    }\n",
              "\n",
              "    .dataframe thead th {\n",
              "        text-align: right;\n",
              "    }\n",
              "</style>\n",
              "<table border=\"1\" class=\"dataframe\">\n",
              "  <thead>\n",
              "    <tr style=\"text-align: right;\">\n",
              "      <th></th>\n",
              "      <th>Rank</th>\n",
              "      <th>Year</th>\n",
              "      <th>Runtime (Minutes)</th>\n",
              "      <th>Rating</th>\n",
              "      <th>Votes</th>\n",
              "      <th>Revenue (Millions)</th>\n",
              "      <th>Metascore</th>\n",
              "    </tr>\n",
              "  </thead>\n",
              "  <tbody>\n",
              "    <tr>\n",
              "      <th>count</th>\n",
              "      <td>1000.000000</td>\n",
              "      <td>1000.000000</td>\n",
              "      <td>1000.000000</td>\n",
              "      <td>1000.000000</td>\n",
              "      <td>1.000000e+03</td>\n",
              "      <td>872.000000</td>\n",
              "      <td>936.000000</td>\n",
              "    </tr>\n",
              "    <tr>\n",
              "      <th>mean</th>\n",
              "      <td>500.500000</td>\n",
              "      <td>2012.783000</td>\n",
              "      <td>113.172000</td>\n",
              "      <td>6.723200</td>\n",
              "      <td>1.698083e+05</td>\n",
              "      <td>82.956376</td>\n",
              "      <td>58.985043</td>\n",
              "    </tr>\n",
              "    <tr>\n",
              "      <th>std</th>\n",
              "      <td>288.819436</td>\n",
              "      <td>3.205962</td>\n",
              "      <td>18.810908</td>\n",
              "      <td>0.945429</td>\n",
              "      <td>1.887626e+05</td>\n",
              "      <td>103.253540</td>\n",
              "      <td>17.194757</td>\n",
              "    </tr>\n",
              "    <tr>\n",
              "      <th>min</th>\n",
              "      <td>1.000000</td>\n",
              "      <td>2006.000000</td>\n",
              "      <td>66.000000</td>\n",
              "      <td>1.900000</td>\n",
              "      <td>6.100000e+01</td>\n",
              "      <td>0.000000</td>\n",
              "      <td>11.000000</td>\n",
              "    </tr>\n",
              "    <tr>\n",
              "      <th>25%</th>\n",
              "      <td>250.750000</td>\n",
              "      <td>2010.000000</td>\n",
              "      <td>100.000000</td>\n",
              "      <td>6.200000</td>\n",
              "      <td>3.630900e+04</td>\n",
              "      <td>13.270000</td>\n",
              "      <td>47.000000</td>\n",
              "    </tr>\n",
              "    <tr>\n",
              "      <th>50%</th>\n",
              "      <td>500.500000</td>\n",
              "      <td>2014.000000</td>\n",
              "      <td>111.000000</td>\n",
              "      <td>6.800000</td>\n",
              "      <td>1.107990e+05</td>\n",
              "      <td>47.985000</td>\n",
              "      <td>59.500000</td>\n",
              "    </tr>\n",
              "    <tr>\n",
              "      <th>75%</th>\n",
              "      <td>750.250000</td>\n",
              "      <td>2016.000000</td>\n",
              "      <td>123.000000</td>\n",
              "      <td>7.400000</td>\n",
              "      <td>2.399098e+05</td>\n",
              "      <td>113.715000</td>\n",
              "      <td>72.000000</td>\n",
              "    </tr>\n",
              "    <tr>\n",
              "      <th>max</th>\n",
              "      <td>1000.000000</td>\n",
              "      <td>2016.000000</td>\n",
              "      <td>191.000000</td>\n",
              "      <td>9.000000</td>\n",
              "      <td>1.791916e+06</td>\n",
              "      <td>936.630000</td>\n",
              "      <td>100.000000</td>\n",
              "    </tr>\n",
              "  </tbody>\n",
              "</table>\n",
              "</div>"
            ],
            "text/plain": [
              "              Rank         Year  ...  Revenue (Millions)   Metascore\n",
              "count  1000.000000  1000.000000  ...          872.000000  936.000000\n",
              "mean    500.500000  2012.783000  ...           82.956376   58.985043\n",
              "std     288.819436     3.205962  ...          103.253540   17.194757\n",
              "min       1.000000  2006.000000  ...            0.000000   11.000000\n",
              "25%     250.750000  2010.000000  ...           13.270000   47.000000\n",
              "50%     500.500000  2014.000000  ...           47.985000   59.500000\n",
              "75%     750.250000  2016.000000  ...          113.715000   72.000000\n",
              "max    1000.000000  2016.000000  ...          936.630000  100.000000\n",
              "\n",
              "[8 rows x 7 columns]"
            ]
          },
          "metadata": {
            "tags": []
          },
          "execution_count": 12
        }
      ]
    },
    {
      "cell_type": "code",
      "metadata": {
        "colab": {
          "base_uri": "https://localhost:8080/",
          "height": 0
        },
        "id": "YBAX_Df3bLkr",
        "outputId": "3e7f03e5-e862-4ca0-98bc-3843b568e6bb"
      },
      "source": [
        "df.nunique"
      ],
      "execution_count": 13,
      "outputs": [
        {
          "output_type": "execute_result",
          "data": {
            "text/plain": [
              "<bound method DataFrame.nunique of      Rank                    Title  ... Revenue (Millions) Metascore\n",
              "0       1  Guardians of the Galaxy  ...             333.13      76.0\n",
              "1       2               Prometheus  ...             126.46      65.0\n",
              "2       3                    Split  ...             138.12      62.0\n",
              "3       4                     Sing  ...             270.32      59.0\n",
              "4       5            Suicide Squad  ...             325.02      40.0\n",
              "..    ...                      ...  ...                ...       ...\n",
              "995   996     Secret in Their Eyes  ...                NaN      45.0\n",
              "996   997          Hostel: Part II  ...              17.54      46.0\n",
              "997   998   Step Up 2: The Streets  ...              58.01      50.0\n",
              "998   999             Search Party  ...                NaN      22.0\n",
              "999  1000               Nine Lives  ...              19.64      11.0\n",
              "\n",
              "[1000 rows x 12 columns]>"
            ]
          },
          "metadata": {
            "tags": []
          },
          "execution_count": 13
        }
      ]
    },
    {
      "cell_type": "markdown",
      "metadata": {
        "id": "ZPH69IlCaaFZ"
      },
      "source": [
        "\n",
        "\n",
        "---\n",
        "\n"
      ]
    },
    {
      "cell_type": "markdown",
      "metadata": {
        "id": "_9Qe02TYabCf"
      },
      "source": [
        "# 4. Data Selection – Indexing and Slicing data"
      ]
    },
    {
      "cell_type": "code",
      "metadata": {
        "colab": {
          "base_uri": "https://localhost:8080/",
          "height": 0
        },
        "id": "RGTt8Nq5aetY",
        "outputId": "f8271383-3793-4a19-b1cc-c97bfd3ad412"
      },
      "source": [
        "df['Title']"
      ],
      "execution_count": 14,
      "outputs": [
        {
          "output_type": "execute_result",
          "data": {
            "text/plain": [
              "0      Guardians of the Galaxy\n",
              "1                   Prometheus\n",
              "2                        Split\n",
              "3                         Sing\n",
              "4                Suicide Squad\n",
              "                ...           \n",
              "995       Secret in Their Eyes\n",
              "996            Hostel: Part II\n",
              "997     Step Up 2: The Streets\n",
              "998               Search Party\n",
              "999                 Nine Lives\n",
              "Name: Title, Length: 1000, dtype: object"
            ]
          },
          "metadata": {
            "tags": []
          },
          "execution_count": 14
        }
      ]
    },
    {
      "cell_type": "code",
      "metadata": {
        "colab": {
          "base_uri": "https://localhost:8080/",
          "height": 0
        },
        "id": "dR6GKVAHb8wq",
        "outputId": "5211d1d3-f028-4c3b-9608-c06bba6a7854"
      },
      "source": [
        "df.iloc[: ,8]"
      ],
      "execution_count": 15,
      "outputs": [
        {
          "output_type": "execute_result",
          "data": {
            "text/plain": [
              "0      8.1\n",
              "1      7.0\n",
              "2      7.3\n",
              "3      7.2\n",
              "4      6.2\n",
              "      ... \n",
              "995    6.2\n",
              "996    5.5\n",
              "997    6.2\n",
              "998    5.6\n",
              "999    5.3\n",
              "Name: Rating, Length: 1000, dtype: float64"
            ]
          },
          "metadata": {
            "tags": []
          },
          "execution_count": 15
        }
      ]
    },
    {
      "cell_type": "code",
      "metadata": {
        "colab": {
          "base_uri": "https://localhost:8080/",
          "height": 402
        },
        "id": "QAPMO76ncB_U",
        "outputId": "235e9114-f312-4e03-b5fc-dfd902bcb2ac"
      },
      "source": [
        "df.loc[:, \"Rank\" : \"Year\"]"
      ],
      "execution_count": 16,
      "outputs": [
        {
          "output_type": "execute_result",
          "data": {
            "text/html": [
              "<div>\n",
              "<style scoped>\n",
              "    .dataframe tbody tr th:only-of-type {\n",
              "        vertical-align: middle;\n",
              "    }\n",
              "\n",
              "    .dataframe tbody tr th {\n",
              "        vertical-align: top;\n",
              "    }\n",
              "\n",
              "    .dataframe thead th {\n",
              "        text-align: right;\n",
              "    }\n",
              "</style>\n",
              "<table border=\"1\" class=\"dataframe\">\n",
              "  <thead>\n",
              "    <tr style=\"text-align: right;\">\n",
              "      <th></th>\n",
              "      <th>Rank</th>\n",
              "      <th>Title</th>\n",
              "      <th>Genre</th>\n",
              "      <th>Description</th>\n",
              "      <th>Director</th>\n",
              "      <th>Actors</th>\n",
              "      <th>Year</th>\n",
              "    </tr>\n",
              "  </thead>\n",
              "  <tbody>\n",
              "    <tr>\n",
              "      <th>0</th>\n",
              "      <td>1</td>\n",
              "      <td>Guardians of the Galaxy</td>\n",
              "      <td>Action,Adventure,Sci-Fi</td>\n",
              "      <td>A group of intergalactic criminals are forced ...</td>\n",
              "      <td>James Gunn</td>\n",
              "      <td>Chris Pratt, Vin Diesel, Bradley Cooper, Zoe S...</td>\n",
              "      <td>2014</td>\n",
              "    </tr>\n",
              "    <tr>\n",
              "      <th>1</th>\n",
              "      <td>2</td>\n",
              "      <td>Prometheus</td>\n",
              "      <td>Adventure,Mystery,Sci-Fi</td>\n",
              "      <td>Following clues to the origin of mankind, a te...</td>\n",
              "      <td>Ridley Scott</td>\n",
              "      <td>Noomi Rapace, Logan Marshall-Green, Michael Fa...</td>\n",
              "      <td>2012</td>\n",
              "    </tr>\n",
              "    <tr>\n",
              "      <th>2</th>\n",
              "      <td>3</td>\n",
              "      <td>Split</td>\n",
              "      <td>Horror,Thriller</td>\n",
              "      <td>Three girls are kidnapped by a man with a diag...</td>\n",
              "      <td>M. Night Shyamalan</td>\n",
              "      <td>James McAvoy, Anya Taylor-Joy, Haley Lu Richar...</td>\n",
              "      <td>2016</td>\n",
              "    </tr>\n",
              "    <tr>\n",
              "      <th>3</th>\n",
              "      <td>4</td>\n",
              "      <td>Sing</td>\n",
              "      <td>Animation,Comedy,Family</td>\n",
              "      <td>In a city of humanoid animals, a hustling thea...</td>\n",
              "      <td>Christophe Lourdelet</td>\n",
              "      <td>Matthew McConaughey,Reese Witherspoon, Seth Ma...</td>\n",
              "      <td>2016</td>\n",
              "    </tr>\n",
              "    <tr>\n",
              "      <th>4</th>\n",
              "      <td>5</td>\n",
              "      <td>Suicide Squad</td>\n",
              "      <td>Action,Adventure,Fantasy</td>\n",
              "      <td>A secret government agency recruits some of th...</td>\n",
              "      <td>David Ayer</td>\n",
              "      <td>Will Smith, Jared Leto, Margot Robbie, Viola D...</td>\n",
              "      <td>2016</td>\n",
              "    </tr>\n",
              "    <tr>\n",
              "      <th>...</th>\n",
              "      <td>...</td>\n",
              "      <td>...</td>\n",
              "      <td>...</td>\n",
              "      <td>...</td>\n",
              "      <td>...</td>\n",
              "      <td>...</td>\n",
              "      <td>...</td>\n",
              "    </tr>\n",
              "    <tr>\n",
              "      <th>995</th>\n",
              "      <td>996</td>\n",
              "      <td>Secret in Their Eyes</td>\n",
              "      <td>Crime,Drama,Mystery</td>\n",
              "      <td>A tight-knit team of rising investigators, alo...</td>\n",
              "      <td>Billy Ray</td>\n",
              "      <td>Chiwetel Ejiofor, Nicole Kidman, Julia Roberts...</td>\n",
              "      <td>2015</td>\n",
              "    </tr>\n",
              "    <tr>\n",
              "      <th>996</th>\n",
              "      <td>997</td>\n",
              "      <td>Hostel: Part II</td>\n",
              "      <td>Horror</td>\n",
              "      <td>Three American college students studying abroa...</td>\n",
              "      <td>Eli Roth</td>\n",
              "      <td>Lauren German, Heather Matarazzo, Bijou Philli...</td>\n",
              "      <td>2007</td>\n",
              "    </tr>\n",
              "    <tr>\n",
              "      <th>997</th>\n",
              "      <td>998</td>\n",
              "      <td>Step Up 2: The Streets</td>\n",
              "      <td>Drama,Music,Romance</td>\n",
              "      <td>Romantic sparks occur between two dance studen...</td>\n",
              "      <td>Jon M. Chu</td>\n",
              "      <td>Robert Hoffman, Briana Evigan, Cassie Ventura,...</td>\n",
              "      <td>2008</td>\n",
              "    </tr>\n",
              "    <tr>\n",
              "      <th>998</th>\n",
              "      <td>999</td>\n",
              "      <td>Search Party</td>\n",
              "      <td>Adventure,Comedy</td>\n",
              "      <td>A pair of friends embark on a mission to reuni...</td>\n",
              "      <td>Scot Armstrong</td>\n",
              "      <td>Adam Pally, T.J. Miller, Thomas Middleditch,Sh...</td>\n",
              "      <td>2014</td>\n",
              "    </tr>\n",
              "    <tr>\n",
              "      <th>999</th>\n",
              "      <td>1000</td>\n",
              "      <td>Nine Lives</td>\n",
              "      <td>Comedy,Family,Fantasy</td>\n",
              "      <td>A stuffy businessman finds himself trapped ins...</td>\n",
              "      <td>Barry Sonnenfeld</td>\n",
              "      <td>Kevin Spacey, Jennifer Garner, Robbie Amell,Ch...</td>\n",
              "      <td>2016</td>\n",
              "    </tr>\n",
              "  </tbody>\n",
              "</table>\n",
              "<p>1000 rows × 7 columns</p>\n",
              "</div>"
            ],
            "text/plain": [
              "     Rank  ...  Year\n",
              "0       1  ...  2014\n",
              "1       2  ...  2012\n",
              "2       3  ...  2016\n",
              "3       4  ...  2016\n",
              "4       5  ...  2016\n",
              "..    ...  ...   ...\n",
              "995   996  ...  2015\n",
              "996   997  ...  2007\n",
              "997   998  ...  2008\n",
              "998   999  ...  2014\n",
              "999  1000  ...  2016\n",
              "\n",
              "[1000 rows x 7 columns]"
            ]
          },
          "metadata": {
            "tags": []
          },
          "execution_count": 16
        }
      ]
    },
    {
      "cell_type": "code",
      "metadata": {
        "colab": {
          "base_uri": "https://localhost:8080/",
          "height": 402
        },
        "id": "rIfCGOgqdsmG",
        "outputId": "9099096d-de91-4303-cb07-b14489e30cee"
      },
      "source": [
        "df.iloc[:,1:5]"
      ],
      "execution_count": 17,
      "outputs": [
        {
          "output_type": "execute_result",
          "data": {
            "text/html": [
              "<div>\n",
              "<style scoped>\n",
              "    .dataframe tbody tr th:only-of-type {\n",
              "        vertical-align: middle;\n",
              "    }\n",
              "\n",
              "    .dataframe tbody tr th {\n",
              "        vertical-align: top;\n",
              "    }\n",
              "\n",
              "    .dataframe thead th {\n",
              "        text-align: right;\n",
              "    }\n",
              "</style>\n",
              "<table border=\"1\" class=\"dataframe\">\n",
              "  <thead>\n",
              "    <tr style=\"text-align: right;\">\n",
              "      <th></th>\n",
              "      <th>Title</th>\n",
              "      <th>Genre</th>\n",
              "      <th>Description</th>\n",
              "      <th>Director</th>\n",
              "    </tr>\n",
              "  </thead>\n",
              "  <tbody>\n",
              "    <tr>\n",
              "      <th>0</th>\n",
              "      <td>Guardians of the Galaxy</td>\n",
              "      <td>Action,Adventure,Sci-Fi</td>\n",
              "      <td>A group of intergalactic criminals are forced ...</td>\n",
              "      <td>James Gunn</td>\n",
              "    </tr>\n",
              "    <tr>\n",
              "      <th>1</th>\n",
              "      <td>Prometheus</td>\n",
              "      <td>Adventure,Mystery,Sci-Fi</td>\n",
              "      <td>Following clues to the origin of mankind, a te...</td>\n",
              "      <td>Ridley Scott</td>\n",
              "    </tr>\n",
              "    <tr>\n",
              "      <th>2</th>\n",
              "      <td>Split</td>\n",
              "      <td>Horror,Thriller</td>\n",
              "      <td>Three girls are kidnapped by a man with a diag...</td>\n",
              "      <td>M. Night Shyamalan</td>\n",
              "    </tr>\n",
              "    <tr>\n",
              "      <th>3</th>\n",
              "      <td>Sing</td>\n",
              "      <td>Animation,Comedy,Family</td>\n",
              "      <td>In a city of humanoid animals, a hustling thea...</td>\n",
              "      <td>Christophe Lourdelet</td>\n",
              "    </tr>\n",
              "    <tr>\n",
              "      <th>4</th>\n",
              "      <td>Suicide Squad</td>\n",
              "      <td>Action,Adventure,Fantasy</td>\n",
              "      <td>A secret government agency recruits some of th...</td>\n",
              "      <td>David Ayer</td>\n",
              "    </tr>\n",
              "    <tr>\n",
              "      <th>...</th>\n",
              "      <td>...</td>\n",
              "      <td>...</td>\n",
              "      <td>...</td>\n",
              "      <td>...</td>\n",
              "    </tr>\n",
              "    <tr>\n",
              "      <th>995</th>\n",
              "      <td>Secret in Their Eyes</td>\n",
              "      <td>Crime,Drama,Mystery</td>\n",
              "      <td>A tight-knit team of rising investigators, alo...</td>\n",
              "      <td>Billy Ray</td>\n",
              "    </tr>\n",
              "    <tr>\n",
              "      <th>996</th>\n",
              "      <td>Hostel: Part II</td>\n",
              "      <td>Horror</td>\n",
              "      <td>Three American college students studying abroa...</td>\n",
              "      <td>Eli Roth</td>\n",
              "    </tr>\n",
              "    <tr>\n",
              "      <th>997</th>\n",
              "      <td>Step Up 2: The Streets</td>\n",
              "      <td>Drama,Music,Romance</td>\n",
              "      <td>Romantic sparks occur between two dance studen...</td>\n",
              "      <td>Jon M. Chu</td>\n",
              "    </tr>\n",
              "    <tr>\n",
              "      <th>998</th>\n",
              "      <td>Search Party</td>\n",
              "      <td>Adventure,Comedy</td>\n",
              "      <td>A pair of friends embark on a mission to reuni...</td>\n",
              "      <td>Scot Armstrong</td>\n",
              "    </tr>\n",
              "    <tr>\n",
              "      <th>999</th>\n",
              "      <td>Nine Lives</td>\n",
              "      <td>Comedy,Family,Fantasy</td>\n",
              "      <td>A stuffy businessman finds himself trapped ins...</td>\n",
              "      <td>Barry Sonnenfeld</td>\n",
              "    </tr>\n",
              "  </tbody>\n",
              "</table>\n",
              "<p>1000 rows × 4 columns</p>\n",
              "</div>"
            ],
            "text/plain": [
              "                       Title  ...              Director\n",
              "0    Guardians of the Galaxy  ...            James Gunn\n",
              "1                 Prometheus  ...          Ridley Scott\n",
              "2                      Split  ...    M. Night Shyamalan\n",
              "3                       Sing  ...  Christophe Lourdelet\n",
              "4              Suicide Squad  ...            David Ayer\n",
              "..                       ...  ...                   ...\n",
              "995     Secret in Their Eyes  ...             Billy Ray\n",
              "996          Hostel: Part II  ...              Eli Roth\n",
              "997   Step Up 2: The Streets  ...            Jon M. Chu\n",
              "998             Search Party  ...        Scot Armstrong\n",
              "999               Nine Lives  ...      Barry Sonnenfeld\n",
              "\n",
              "[1000 rows x 4 columns]"
            ]
          },
          "metadata": {
            "tags": []
          },
          "execution_count": 17
        }
      ]
    },
    {
      "cell_type": "markdown",
      "metadata": {
        "id": "hbMgRNkzcSVP"
      },
      "source": [
        "\n",
        "\n",
        "---\n",
        "\n"
      ]
    },
    {
      "cell_type": "markdown",
      "metadata": {
        "id": "hKzEJIKxcTkg"
      },
      "source": [
        "# 5. Data Selection – Based on Conditional filtering"
      ]
    },
    {
      "cell_type": "code",
      "metadata": {
        "colab": {
          "base_uri": "https://localhost:8080/",
          "height": 528
        },
        "id": "CxaLnaqycNah",
        "outputId": "2d7bc375-0056-4210-d235-0601d6b6d812"
      },
      "source": [
        "df['Rating']>8\n",
        "df_sub = df[df['Rating']>8]\n",
        "df_sub.head(10)"
      ],
      "execution_count": 18,
      "outputs": [
        {
          "output_type": "execute_result",
          "data": {
            "text/html": [
              "<div>\n",
              "<style scoped>\n",
              "    .dataframe tbody tr th:only-of-type {\n",
              "        vertical-align: middle;\n",
              "    }\n",
              "\n",
              "    .dataframe tbody tr th {\n",
              "        vertical-align: top;\n",
              "    }\n",
              "\n",
              "    .dataframe thead th {\n",
              "        text-align: right;\n",
              "    }\n",
              "</style>\n",
              "<table border=\"1\" class=\"dataframe\">\n",
              "  <thead>\n",
              "    <tr style=\"text-align: right;\">\n",
              "      <th></th>\n",
              "      <th>Rank</th>\n",
              "      <th>Title</th>\n",
              "      <th>Genre</th>\n",
              "      <th>Description</th>\n",
              "      <th>Director</th>\n",
              "      <th>Actors</th>\n",
              "      <th>Year</th>\n",
              "      <th>Runtime (Minutes)</th>\n",
              "      <th>Rating</th>\n",
              "      <th>Votes</th>\n",
              "      <th>Revenue (Millions)</th>\n",
              "      <th>Metascore</th>\n",
              "    </tr>\n",
              "  </thead>\n",
              "  <tbody>\n",
              "    <tr>\n",
              "      <th>0</th>\n",
              "      <td>1</td>\n",
              "      <td>Guardians of the Galaxy</td>\n",
              "      <td>Action,Adventure,Sci-Fi</td>\n",
              "      <td>A group of intergalactic criminals are forced ...</td>\n",
              "      <td>James Gunn</td>\n",
              "      <td>Chris Pratt, Vin Diesel, Bradley Cooper, Zoe S...</td>\n",
              "      <td>2014</td>\n",
              "      <td>121</td>\n",
              "      <td>8.1</td>\n",
              "      <td>757074</td>\n",
              "      <td>333.13</td>\n",
              "      <td>76.0</td>\n",
              "    </tr>\n",
              "    <tr>\n",
              "      <th>6</th>\n",
              "      <td>7</td>\n",
              "      <td>La La Land</td>\n",
              "      <td>Comedy,Drama,Music</td>\n",
              "      <td>A jazz pianist falls for an aspiring actress i...</td>\n",
              "      <td>Damien Chazelle</td>\n",
              "      <td>Ryan Gosling, Emma Stone, Rosemarie DeWitt, J....</td>\n",
              "      <td>2016</td>\n",
              "      <td>128</td>\n",
              "      <td>8.3</td>\n",
              "      <td>258682</td>\n",
              "      <td>151.06</td>\n",
              "      <td>93.0</td>\n",
              "    </tr>\n",
              "    <tr>\n",
              "      <th>16</th>\n",
              "      <td>17</td>\n",
              "      <td>Hacksaw Ridge</td>\n",
              "      <td>Biography,Drama,History</td>\n",
              "      <td>WWII American Army Medic Desmond T. Doss, who ...</td>\n",
              "      <td>Mel Gibson</td>\n",
              "      <td>Andrew Garfield, Sam Worthington, Luke Bracey,...</td>\n",
              "      <td>2016</td>\n",
              "      <td>139</td>\n",
              "      <td>8.2</td>\n",
              "      <td>211760</td>\n",
              "      <td>67.12</td>\n",
              "      <td>71.0</td>\n",
              "    </tr>\n",
              "    <tr>\n",
              "      <th>18</th>\n",
              "      <td>19</td>\n",
              "      <td>Lion</td>\n",
              "      <td>Biography,Drama</td>\n",
              "      <td>A five-year-old Indian boy gets lost on the st...</td>\n",
              "      <td>Garth Davis</td>\n",
              "      <td>Dev Patel, Nicole Kidman, Rooney Mara, Sunny P...</td>\n",
              "      <td>2016</td>\n",
              "      <td>118</td>\n",
              "      <td>8.1</td>\n",
              "      <td>102061</td>\n",
              "      <td>51.69</td>\n",
              "      <td>69.0</td>\n",
              "    </tr>\n",
              "    <tr>\n",
              "      <th>26</th>\n",
              "      <td>27</td>\n",
              "      <td>Bahubali: The Beginning</td>\n",
              "      <td>Action,Adventure,Drama</td>\n",
              "      <td>In ancient India, an adventurous and daring ma...</td>\n",
              "      <td>S.S. Rajamouli</td>\n",
              "      <td>Prabhas, Rana Daggubati, Anushka Shetty,Tamann...</td>\n",
              "      <td>2015</td>\n",
              "      <td>159</td>\n",
              "      <td>8.3</td>\n",
              "      <td>76193</td>\n",
              "      <td>6.50</td>\n",
              "      <td>NaN</td>\n",
              "    </tr>\n",
              "    <tr>\n",
              "      <th>36</th>\n",
              "      <td>37</td>\n",
              "      <td>Interstellar</td>\n",
              "      <td>Adventure,Drama,Sci-Fi</td>\n",
              "      <td>A team of explorers travel through a wormhole ...</td>\n",
              "      <td>Christopher Nolan</td>\n",
              "      <td>Matthew McConaughey, Anne Hathaway, Jessica Ch...</td>\n",
              "      <td>2014</td>\n",
              "      <td>169</td>\n",
              "      <td>8.6</td>\n",
              "      <td>1047747</td>\n",
              "      <td>187.99</td>\n",
              "      <td>74.0</td>\n",
              "    </tr>\n",
              "    <tr>\n",
              "      <th>50</th>\n",
              "      <td>51</td>\n",
              "      <td>Star Wars: Episode VII - The Force Awakens</td>\n",
              "      <td>Action,Adventure,Fantasy</td>\n",
              "      <td>Three decades after the defeat of the Galactic...</td>\n",
              "      <td>J.J. Abrams</td>\n",
              "      <td>Daisy Ridley, John Boyega, Oscar Isaac, Domhna...</td>\n",
              "      <td>2015</td>\n",
              "      <td>136</td>\n",
              "      <td>8.1</td>\n",
              "      <td>661608</td>\n",
              "      <td>936.63</td>\n",
              "      <td>81.0</td>\n",
              "    </tr>\n",
              "    <tr>\n",
              "      <th>54</th>\n",
              "      <td>55</td>\n",
              "      <td>The Dark Knight</td>\n",
              "      <td>Action,Crime,Drama</td>\n",
              "      <td>When the menace known as the Joker wreaks havo...</td>\n",
              "      <td>Christopher Nolan</td>\n",
              "      <td>Christian Bale, Heath Ledger, Aaron Eckhart,Mi...</td>\n",
              "      <td>2008</td>\n",
              "      <td>152</td>\n",
              "      <td>9.0</td>\n",
              "      <td>1791916</td>\n",
              "      <td>533.32</td>\n",
              "      <td>82.0</td>\n",
              "    </tr>\n",
              "    <tr>\n",
              "      <th>64</th>\n",
              "      <td>65</td>\n",
              "      <td>The Prestige</td>\n",
              "      <td>Drama,Mystery,Sci-Fi</td>\n",
              "      <td>Two stage magicians engage in competitive one-...</td>\n",
              "      <td>Christopher Nolan</td>\n",
              "      <td>Christian Bale, Hugh Jackman, Scarlett Johanss...</td>\n",
              "      <td>2006</td>\n",
              "      <td>130</td>\n",
              "      <td>8.5</td>\n",
              "      <td>913152</td>\n",
              "      <td>53.08</td>\n",
              "      <td>66.0</td>\n",
              "    </tr>\n",
              "    <tr>\n",
              "      <th>67</th>\n",
              "      <td>68</td>\n",
              "      <td>Mad Max: Fury Road</td>\n",
              "      <td>Action,Adventure,Sci-Fi</td>\n",
              "      <td>A woman rebels against a tyrannical ruler in p...</td>\n",
              "      <td>George Miller</td>\n",
              "      <td>Tom Hardy, Charlize Theron, Nicholas Hoult, Zo...</td>\n",
              "      <td>2015</td>\n",
              "      <td>120</td>\n",
              "      <td>8.1</td>\n",
              "      <td>632842</td>\n",
              "      <td>153.63</td>\n",
              "      <td>90.0</td>\n",
              "    </tr>\n",
              "  </tbody>\n",
              "</table>\n",
              "</div>"
            ],
            "text/plain": [
              "    Rank  ... Metascore\n",
              "0      1  ...      76.0\n",
              "6      7  ...      93.0\n",
              "16    17  ...      71.0\n",
              "18    19  ...      69.0\n",
              "26    27  ...       NaN\n",
              "36    37  ...      74.0\n",
              "50    51  ...      81.0\n",
              "54    55  ...      82.0\n",
              "64    65  ...      66.0\n",
              "67    68  ...      90.0\n",
              "\n",
              "[10 rows x 12 columns]"
            ]
          },
          "metadata": {
            "tags": []
          },
          "execution_count": 18
        }
      ]
    },
    {
      "cell_type": "markdown",
      "metadata": {
        "id": "v_8AYfEierXx"
      },
      "source": [
        "\n",
        "\n",
        "---\n",
        "\n"
      ]
    },
    {
      "cell_type": "markdown",
      "metadata": {
        "id": "UdmHD2xZenBe"
      },
      "source": [
        ""
      ]
    },
    {
      "cell_type": "markdown",
      "metadata": {
        "id": "i9JFHmAyesb-"
      },
      "source": [
        "# 6. Groupby operations"
      ]
    },
    {
      "cell_type": "code",
      "metadata": {
        "colab": {
          "base_uri": "https://localhost:8080/",
          "height": 0
        },
        "id": "0KP9cb6Oew1M",
        "outputId": "facdc6d4-4f9f-4f58-d441-01a9b4478ebb"
      },
      "source": [
        "df.groupby(['Year', 'Title'])['Rating'].count()"
      ],
      "execution_count": 19,
      "outputs": [
        {
          "output_type": "execute_result",
          "data": {
            "text/plain": [
              "Year  Title             \n",
              "2006  300                   1\n",
              "      A Good Year           1\n",
              "      Apocalypto            1\n",
              "      Babel                 1\n",
              "      Blood Diamond         1\n",
              "                           ..\n",
              "2016  Wolves at the Door    1\n",
              "      X-Men: Apocalypse     1\n",
              "      Yoga Hosers           1\n",
              "      Zoolander 2           1\n",
              "      Zootopia              1\n",
              "Name: Rating, Length: 1000, dtype: int64"
            ]
          },
          "metadata": {
            "tags": []
          },
          "execution_count": 19
        }
      ]
    },
    {
      "cell_type": "code",
      "metadata": {
        "colab": {
          "base_uri": "https://localhost:8080/",
          "height": 0
        },
        "id": "c9uLPoh2fMgY",
        "outputId": "03da469d-cb90-42d7-ef66-1e15257ac862"
      },
      "source": [
        "df.groupby([\"Genre\", \"Year\"])[\"Rating\"].mean()"
      ],
      "execution_count": 20,
      "outputs": [
        {
          "output_type": "execute_result",
          "data": {
            "text/plain": [
              "Genre                       Year\n",
              "Action                      2016    6.150000\n",
              "Action,Adventure            2007    6.200000\n",
              "                            2012    7.000000\n",
              "                            2014    6.000000\n",
              "Action,Adventure,Biography  2015    6.900000\n",
              "                                      ...   \n",
              "Sci-Fi,Thriller             2008    5.000000\n",
              "Thriller                    2007    7.100000\n",
              "                            2014    6.700000\n",
              "                            2016    5.685714\n",
              "Thriller,War                2016    6.000000\n",
              "Name: Rating, Length: 583, dtype: float64"
            ]
          },
          "metadata": {
            "tags": []
          },
          "execution_count": 20
        }
      ]
    },
    {
      "cell_type": "code",
      "metadata": {
        "colab": {
          "base_uri": "https://localhost:8080/",
          "height": 431
        },
        "id": "IWoNIZxCgC7-",
        "outputId": "701ed1c6-4ccb-4585-b4c3-6a2eb1201320"
      },
      "source": [
        "df.groupby('Votes').sum()"
      ],
      "execution_count": 21,
      "outputs": [
        {
          "output_type": "execute_result",
          "data": {
            "text/html": [
              "<div>\n",
              "<style scoped>\n",
              "    .dataframe tbody tr th:only-of-type {\n",
              "        vertical-align: middle;\n",
              "    }\n",
              "\n",
              "    .dataframe tbody tr th {\n",
              "        vertical-align: top;\n",
              "    }\n",
              "\n",
              "    .dataframe thead th {\n",
              "        text-align: right;\n",
              "    }\n",
              "</style>\n",
              "<table border=\"1\" class=\"dataframe\">\n",
              "  <thead>\n",
              "    <tr style=\"text-align: right;\">\n",
              "      <th></th>\n",
              "      <th>Rank</th>\n",
              "      <th>Year</th>\n",
              "      <th>Runtime (Minutes)</th>\n",
              "      <th>Rating</th>\n",
              "      <th>Revenue (Millions)</th>\n",
              "      <th>Metascore</th>\n",
              "    </tr>\n",
              "    <tr>\n",
              "      <th>Votes</th>\n",
              "      <th></th>\n",
              "      <th></th>\n",
              "      <th></th>\n",
              "      <th></th>\n",
              "      <th></th>\n",
              "      <th></th>\n",
              "    </tr>\n",
              "  </thead>\n",
              "  <tbody>\n",
              "    <tr>\n",
              "      <th>61</th>\n",
              "      <td>479</td>\n",
              "      <td>2016</td>\n",
              "      <td>96</td>\n",
              "      <td>8.3</td>\n",
              "      <td>0.00</td>\n",
              "      <td>71.0</td>\n",
              "    </tr>\n",
              "    <tr>\n",
              "      <th>96</th>\n",
              "      <td>294</td>\n",
              "      <td>2016</td>\n",
              "      <td>107</td>\n",
              "      <td>7.7</td>\n",
              "      <td>0.00</td>\n",
              "      <td>0.0</td>\n",
              "    </tr>\n",
              "    <tr>\n",
              "      <th>102</th>\n",
              "      <td>394</td>\n",
              "      <td>2016</td>\n",
              "      <td>98</td>\n",
              "      <td>5.0</td>\n",
              "      <td>0.00</td>\n",
              "      <td>43.0</td>\n",
              "    </tr>\n",
              "    <tr>\n",
              "      <th>115</th>\n",
              "      <td>338</td>\n",
              "      <td>2016</td>\n",
              "      <td>88</td>\n",
              "      <td>5.9</td>\n",
              "      <td>0.00</td>\n",
              "      <td>64.0</td>\n",
              "    </tr>\n",
              "    <tr>\n",
              "      <th>164</th>\n",
              "      <td>417</td>\n",
              "      <td>2016</td>\n",
              "      <td>108</td>\n",
              "      <td>6.9</td>\n",
              "      <td>0.00</td>\n",
              "      <td>85.0</td>\n",
              "    </tr>\n",
              "    <tr>\n",
              "      <th>...</th>\n",
              "      <td>...</td>\n",
              "      <td>...</td>\n",
              "      <td>...</td>\n",
              "      <td>...</td>\n",
              "      <td>...</td>\n",
              "      <td>...</td>\n",
              "    </tr>\n",
              "    <tr>\n",
              "      <th>1045588</th>\n",
              "      <td>77</td>\n",
              "      <td>2012</td>\n",
              "      <td>143</td>\n",
              "      <td>8.1</td>\n",
              "      <td>623.28</td>\n",
              "      <td>69.0</td>\n",
              "    </tr>\n",
              "    <tr>\n",
              "      <th>1047747</th>\n",
              "      <td>37</td>\n",
              "      <td>2014</td>\n",
              "      <td>169</td>\n",
              "      <td>8.6</td>\n",
              "      <td>187.99</td>\n",
              "      <td>74.0</td>\n",
              "    </tr>\n",
              "    <tr>\n",
              "      <th>1222645</th>\n",
              "      <td>125</td>\n",
              "      <td>2012</td>\n",
              "      <td>164</td>\n",
              "      <td>8.5</td>\n",
              "      <td>448.13</td>\n",
              "      <td>78.0</td>\n",
              "    </tr>\n",
              "    <tr>\n",
              "      <th>1583625</th>\n",
              "      <td>81</td>\n",
              "      <td>2010</td>\n",
              "      <td>148</td>\n",
              "      <td>8.8</td>\n",
              "      <td>292.57</td>\n",
              "      <td>74.0</td>\n",
              "    </tr>\n",
              "    <tr>\n",
              "      <th>1791916</th>\n",
              "      <td>55</td>\n",
              "      <td>2008</td>\n",
              "      <td>152</td>\n",
              "      <td>9.0</td>\n",
              "      <td>533.32</td>\n",
              "      <td>82.0</td>\n",
              "    </tr>\n",
              "  </tbody>\n",
              "</table>\n",
              "<p>997 rows × 6 columns</p>\n",
              "</div>"
            ],
            "text/plain": [
              "         Rank  Year  Runtime (Minutes)  Rating  Revenue (Millions)  Metascore\n",
              "Votes                                                                        \n",
              "61        479  2016                 96     8.3                0.00       71.0\n",
              "96        294  2016                107     7.7                0.00        0.0\n",
              "102       394  2016                 98     5.0                0.00       43.0\n",
              "115       338  2016                 88     5.9                0.00       64.0\n",
              "164       417  2016                108     6.9                0.00       85.0\n",
              "...       ...   ...                ...     ...                 ...        ...\n",
              "1045588    77  2012                143     8.1              623.28       69.0\n",
              "1047747    37  2014                169     8.6              187.99       74.0\n",
              "1222645   125  2012                164     8.5              448.13       78.0\n",
              "1583625    81  2010                148     8.8              292.57       74.0\n",
              "1791916    55  2008                152     9.0              533.32       82.0\n",
              "\n",
              "[997 rows x 6 columns]"
            ]
          },
          "metadata": {
            "tags": []
          },
          "execution_count": 21
        }
      ]
    },
    {
      "cell_type": "markdown",
      "metadata": {
        "id": "e6sdbbfTgO5W"
      },
      "source": [
        "\n",
        "\n",
        "---\n",
        "\n"
      ]
    },
    {
      "cell_type": "markdown",
      "metadata": {
        "id": "LIY26wMHgQHH"
      },
      "source": [
        "# 7. Sorting operation"
      ]
    },
    {
      "cell_type": "code",
      "metadata": {
        "colab": {
          "base_uri": "https://localhost:8080/",
          "height": 296
        },
        "id": "lxi2NAFggVBy",
        "outputId": "b34b4393-9745-413f-b2eb-df11d4d02492"
      },
      "source": [
        "df_sorted = df.sort_values(by='Actors')\n",
        "df_sorted.head()"
      ],
      "execution_count": 22,
      "outputs": [
        {
          "output_type": "execute_result",
          "data": {
            "text/html": [
              "<div>\n",
              "<style scoped>\n",
              "    .dataframe tbody tr th:only-of-type {\n",
              "        vertical-align: middle;\n",
              "    }\n",
              "\n",
              "    .dataframe tbody tr th {\n",
              "        vertical-align: top;\n",
              "    }\n",
              "\n",
              "    .dataframe thead th {\n",
              "        text-align: right;\n",
              "    }\n",
              "</style>\n",
              "<table border=\"1\" class=\"dataframe\">\n",
              "  <thead>\n",
              "    <tr style=\"text-align: right;\">\n",
              "      <th></th>\n",
              "      <th>Rank</th>\n",
              "      <th>Title</th>\n",
              "      <th>Genre</th>\n",
              "      <th>Description</th>\n",
              "      <th>Director</th>\n",
              "      <th>Actors</th>\n",
              "      <th>Year</th>\n",
              "      <th>Runtime (Minutes)</th>\n",
              "      <th>Rating</th>\n",
              "      <th>Votes</th>\n",
              "      <th>Revenue (Millions)</th>\n",
              "      <th>Metascore</th>\n",
              "    </tr>\n",
              "  </thead>\n",
              "  <tbody>\n",
              "    <tr>\n",
              "      <th>765</th>\n",
              "      <td>766</td>\n",
              "      <td>PK</td>\n",
              "      <td>Comedy,Drama,Romance</td>\n",
              "      <td>A stranger in the city asks questions no one h...</td>\n",
              "      <td>Rajkumar Hirani</td>\n",
              "      <td>Aamir Khan, Anushka Sharma, Sanjay Dutt,Boman ...</td>\n",
              "      <td>2014</td>\n",
              "      <td>153</td>\n",
              "      <td>8.2</td>\n",
              "      <td>103279</td>\n",
              "      <td>10.57</td>\n",
              "      <td>51.0</td>\n",
              "    </tr>\n",
              "    <tr>\n",
              "      <th>430</th>\n",
              "      <td>431</td>\n",
              "      <td>3 Idiots</td>\n",
              "      <td>Comedy,Drama</td>\n",
              "      <td>Two friends are searching for their long lost ...</td>\n",
              "      <td>Rajkumar Hirani</td>\n",
              "      <td>Aamir Khan, Madhavan, Mona Singh, Sharman Joshi</td>\n",
              "      <td>2009</td>\n",
              "      <td>170</td>\n",
              "      <td>8.4</td>\n",
              "      <td>238789</td>\n",
              "      <td>6.52</td>\n",
              "      <td>67.0</td>\n",
              "    </tr>\n",
              "    <tr>\n",
              "      <th>117</th>\n",
              "      <td>118</td>\n",
              "      <td>Dangal</td>\n",
              "      <td>Action,Biography,Drama</td>\n",
              "      <td>Former wrestler Mahavir Singh Phogat and his t...</td>\n",
              "      <td>Nitesh Tiwari</td>\n",
              "      <td>Aamir Khan, Sakshi Tanwar, Fatima Sana Shaikh,...</td>\n",
              "      <td>2016</td>\n",
              "      <td>161</td>\n",
              "      <td>8.8</td>\n",
              "      <td>48969</td>\n",
              "      <td>11.15</td>\n",
              "      <td>NaN</td>\n",
              "    </tr>\n",
              "    <tr>\n",
              "      <th>535</th>\n",
              "      <td>536</td>\n",
              "      <td>Need for Speed</td>\n",
              "      <td>Action,Crime,Drama</td>\n",
              "      <td>Fresh from prison, a street racer who was fram...</td>\n",
              "      <td>Scott Waugh</td>\n",
              "      <td>Aaron Paul, Dominic Cooper, Imogen Poots, Scot...</td>\n",
              "      <td>2014</td>\n",
              "      <td>132</td>\n",
              "      <td>6.5</td>\n",
              "      <td>143389</td>\n",
              "      <td>43.57</td>\n",
              "      <td>39.0</td>\n",
              "    </tr>\n",
              "    <tr>\n",
              "      <th>97</th>\n",
              "      <td>98</td>\n",
              "      <td>The Void</td>\n",
              "      <td>Horror,Mystery,Sci-Fi</td>\n",
              "      <td>Shortly after delivering a patient to an under...</td>\n",
              "      <td>Jeremy Gillespie</td>\n",
              "      <td>Aaron Poole, Kenneth Welsh,Daniel Fathers, Kat...</td>\n",
              "      <td>2016</td>\n",
              "      <td>90</td>\n",
              "      <td>5.8</td>\n",
              "      <td>9247</td>\n",
              "      <td>0.15</td>\n",
              "      <td>62.0</td>\n",
              "    </tr>\n",
              "  </tbody>\n",
              "</table>\n",
              "</div>"
            ],
            "text/plain": [
              "     Rank           Title  ... Revenue (Millions) Metascore\n",
              "765   766              PK  ...              10.57      51.0\n",
              "430   431        3 Idiots  ...               6.52      67.0\n",
              "117   118          Dangal  ...              11.15       NaN\n",
              "535   536  Need for Speed  ...              43.57      39.0\n",
              "97     98        The Void  ...               0.15      62.0\n",
              "\n",
              "[5 rows x 12 columns]"
            ]
          },
          "metadata": {
            "tags": []
          },
          "execution_count": 22
        }
      ]
    },
    {
      "cell_type": "code",
      "metadata": {
        "colab": {
          "base_uri": "https://localhost:8080/",
          "height": 190
        },
        "id": "VVHsMTjagx3I",
        "outputId": "9b955ac5-6f60-4a5c-d4f1-040c6be7ea84"
      },
      "source": [
        "df_sorted = df.sort_index(ascending=True)\n",
        "df_sorted.tail()"
      ],
      "execution_count": 23,
      "outputs": [
        {
          "output_type": "execute_result",
          "data": {
            "text/html": [
              "<div>\n",
              "<style scoped>\n",
              "    .dataframe tbody tr th:only-of-type {\n",
              "        vertical-align: middle;\n",
              "    }\n",
              "\n",
              "    .dataframe tbody tr th {\n",
              "        vertical-align: top;\n",
              "    }\n",
              "\n",
              "    .dataframe thead th {\n",
              "        text-align: right;\n",
              "    }\n",
              "</style>\n",
              "<table border=\"1\" class=\"dataframe\">\n",
              "  <thead>\n",
              "    <tr style=\"text-align: right;\">\n",
              "      <th></th>\n",
              "      <th>Rank</th>\n",
              "      <th>Title</th>\n",
              "      <th>Genre</th>\n",
              "      <th>Description</th>\n",
              "      <th>Director</th>\n",
              "      <th>Actors</th>\n",
              "      <th>Year</th>\n",
              "      <th>Runtime (Minutes)</th>\n",
              "      <th>Rating</th>\n",
              "      <th>Votes</th>\n",
              "      <th>Revenue (Millions)</th>\n",
              "      <th>Metascore</th>\n",
              "    </tr>\n",
              "  </thead>\n",
              "  <tbody>\n",
              "    <tr>\n",
              "      <th>995</th>\n",
              "      <td>996</td>\n",
              "      <td>Secret in Their Eyes</td>\n",
              "      <td>Crime,Drama,Mystery</td>\n",
              "      <td>A tight-knit team of rising investigators, alo...</td>\n",
              "      <td>Billy Ray</td>\n",
              "      <td>Chiwetel Ejiofor, Nicole Kidman, Julia Roberts...</td>\n",
              "      <td>2015</td>\n",
              "      <td>111</td>\n",
              "      <td>6.2</td>\n",
              "      <td>27585</td>\n",
              "      <td>NaN</td>\n",
              "      <td>45.0</td>\n",
              "    </tr>\n",
              "    <tr>\n",
              "      <th>996</th>\n",
              "      <td>997</td>\n",
              "      <td>Hostel: Part II</td>\n",
              "      <td>Horror</td>\n",
              "      <td>Three American college students studying abroa...</td>\n",
              "      <td>Eli Roth</td>\n",
              "      <td>Lauren German, Heather Matarazzo, Bijou Philli...</td>\n",
              "      <td>2007</td>\n",
              "      <td>94</td>\n",
              "      <td>5.5</td>\n",
              "      <td>73152</td>\n",
              "      <td>17.54</td>\n",
              "      <td>46.0</td>\n",
              "    </tr>\n",
              "    <tr>\n",
              "      <th>997</th>\n",
              "      <td>998</td>\n",
              "      <td>Step Up 2: The Streets</td>\n",
              "      <td>Drama,Music,Romance</td>\n",
              "      <td>Romantic sparks occur between two dance studen...</td>\n",
              "      <td>Jon M. Chu</td>\n",
              "      <td>Robert Hoffman, Briana Evigan, Cassie Ventura,...</td>\n",
              "      <td>2008</td>\n",
              "      <td>98</td>\n",
              "      <td>6.2</td>\n",
              "      <td>70699</td>\n",
              "      <td>58.01</td>\n",
              "      <td>50.0</td>\n",
              "    </tr>\n",
              "    <tr>\n",
              "      <th>998</th>\n",
              "      <td>999</td>\n",
              "      <td>Search Party</td>\n",
              "      <td>Adventure,Comedy</td>\n",
              "      <td>A pair of friends embark on a mission to reuni...</td>\n",
              "      <td>Scot Armstrong</td>\n",
              "      <td>Adam Pally, T.J. Miller, Thomas Middleditch,Sh...</td>\n",
              "      <td>2014</td>\n",
              "      <td>93</td>\n",
              "      <td>5.6</td>\n",
              "      <td>4881</td>\n",
              "      <td>NaN</td>\n",
              "      <td>22.0</td>\n",
              "    </tr>\n",
              "    <tr>\n",
              "      <th>999</th>\n",
              "      <td>1000</td>\n",
              "      <td>Nine Lives</td>\n",
              "      <td>Comedy,Family,Fantasy</td>\n",
              "      <td>A stuffy businessman finds himself trapped ins...</td>\n",
              "      <td>Barry Sonnenfeld</td>\n",
              "      <td>Kevin Spacey, Jennifer Garner, Robbie Amell,Ch...</td>\n",
              "      <td>2016</td>\n",
              "      <td>87</td>\n",
              "      <td>5.3</td>\n",
              "      <td>12435</td>\n",
              "      <td>19.64</td>\n",
              "      <td>11.0</td>\n",
              "    </tr>\n",
              "  </tbody>\n",
              "</table>\n",
              "</div>"
            ],
            "text/plain": [
              "     Rank                   Title  ... Revenue (Millions) Metascore\n",
              "995   996    Secret in Their Eyes  ...                NaN      45.0\n",
              "996   997         Hostel: Part II  ...              17.54      46.0\n",
              "997   998  Step Up 2: The Streets  ...              58.01      50.0\n",
              "998   999            Search Party  ...                NaN      22.0\n",
              "999  1000              Nine Lives  ...              19.64      11.0\n",
              "\n",
              "[5 rows x 12 columns]"
            ]
          },
          "metadata": {
            "tags": []
          },
          "execution_count": 23
        }
      ]
    },
    {
      "cell_type": "markdown",
      "metadata": {
        "id": "XIUgqhIYhLDP"
      },
      "source": [
        "\n",
        "\n",
        "---\n",
        "\n"
      ]
    },
    {
      "cell_type": "markdown",
      "metadata": {
        "id": "Yx3t1LMphL56"
      },
      "source": [
        "# 8. Dealing with missing values"
      ]
    },
    {
      "cell_type": "code",
      "metadata": {
        "colab": {
          "base_uri": "https://localhost:8080/",
          "height": 0
        },
        "id": "cEZn5fLshQ8f",
        "outputId": "40b291c1-2e4f-44a6-b65a-eb20b24fcee0"
      },
      "source": [
        "df.count()"
      ],
      "execution_count": 24,
      "outputs": [
        {
          "output_type": "execute_result",
          "data": {
            "text/plain": [
              "Rank                  1000\n",
              "Title                 1000\n",
              "Genre                 1000\n",
              "Description           1000\n",
              "Director              1000\n",
              "Actors                1000\n",
              "Year                  1000\n",
              "Runtime (Minutes)     1000\n",
              "Rating                1000\n",
              "Votes                 1000\n",
              "Revenue (Millions)     872\n",
              "Metascore              936\n",
              "dtype: int64"
            ]
          },
          "metadata": {
            "tags": []
          },
          "execution_count": 24
        }
      ]
    },
    {
      "cell_type": "markdown",
      "metadata": {
        "id": "8w9d3fk0THsF"
      },
      "source": [
        "\n",
        "\n",
        "---\n",
        "\n"
      ]
    },
    {
      "cell_type": "markdown",
      "metadata": {
        "id": "cWx0Qi04pThL"
      },
      "source": [
        "# 9. Dropping columns and null values"
      ]
    },
    {
      "cell_type": "code",
      "metadata": {
        "colab": {
          "base_uri": "https://localhost:8080/",
          "height": 190
        },
        "id": "y-Bt_ILipU1y",
        "outputId": "d5bf301b-5e11-45ff-94e0-e8e316cc674d"
      },
      "source": [
        "df.drop('Metascore',axis = 1,inplace=True)\n",
        "df.head()"
      ],
      "execution_count": 25,
      "outputs": [
        {
          "output_type": "execute_result",
          "data": {
            "text/html": [
              "<div>\n",
              "<style scoped>\n",
              "    .dataframe tbody tr th:only-of-type {\n",
              "        vertical-align: middle;\n",
              "    }\n",
              "\n",
              "    .dataframe tbody tr th {\n",
              "        vertical-align: top;\n",
              "    }\n",
              "\n",
              "    .dataframe thead th {\n",
              "        text-align: right;\n",
              "    }\n",
              "</style>\n",
              "<table border=\"1\" class=\"dataframe\">\n",
              "  <thead>\n",
              "    <tr style=\"text-align: right;\">\n",
              "      <th></th>\n",
              "      <th>Rank</th>\n",
              "      <th>Title</th>\n",
              "      <th>Genre</th>\n",
              "      <th>Description</th>\n",
              "      <th>Director</th>\n",
              "      <th>Actors</th>\n",
              "      <th>Year</th>\n",
              "      <th>Runtime (Minutes)</th>\n",
              "      <th>Rating</th>\n",
              "      <th>Votes</th>\n",
              "      <th>Revenue (Millions)</th>\n",
              "    </tr>\n",
              "  </thead>\n",
              "  <tbody>\n",
              "    <tr>\n",
              "      <th>0</th>\n",
              "      <td>1</td>\n",
              "      <td>Guardians of the Galaxy</td>\n",
              "      <td>Action,Adventure,Sci-Fi</td>\n",
              "      <td>A group of intergalactic criminals are forced ...</td>\n",
              "      <td>James Gunn</td>\n",
              "      <td>Chris Pratt, Vin Diesel, Bradley Cooper, Zoe S...</td>\n",
              "      <td>2014</td>\n",
              "      <td>121</td>\n",
              "      <td>8.1</td>\n",
              "      <td>757074</td>\n",
              "      <td>333.13</td>\n",
              "    </tr>\n",
              "    <tr>\n",
              "      <th>1</th>\n",
              "      <td>2</td>\n",
              "      <td>Prometheus</td>\n",
              "      <td>Adventure,Mystery,Sci-Fi</td>\n",
              "      <td>Following clues to the origin of mankind, a te...</td>\n",
              "      <td>Ridley Scott</td>\n",
              "      <td>Noomi Rapace, Logan Marshall-Green, Michael Fa...</td>\n",
              "      <td>2012</td>\n",
              "      <td>124</td>\n",
              "      <td>7.0</td>\n",
              "      <td>485820</td>\n",
              "      <td>126.46</td>\n",
              "    </tr>\n",
              "    <tr>\n",
              "      <th>2</th>\n",
              "      <td>3</td>\n",
              "      <td>Split</td>\n",
              "      <td>Horror,Thriller</td>\n",
              "      <td>Three girls are kidnapped by a man with a diag...</td>\n",
              "      <td>M. Night Shyamalan</td>\n",
              "      <td>James McAvoy, Anya Taylor-Joy, Haley Lu Richar...</td>\n",
              "      <td>2016</td>\n",
              "      <td>117</td>\n",
              "      <td>7.3</td>\n",
              "      <td>157606</td>\n",
              "      <td>138.12</td>\n",
              "    </tr>\n",
              "    <tr>\n",
              "      <th>3</th>\n",
              "      <td>4</td>\n",
              "      <td>Sing</td>\n",
              "      <td>Animation,Comedy,Family</td>\n",
              "      <td>In a city of humanoid animals, a hustling thea...</td>\n",
              "      <td>Christophe Lourdelet</td>\n",
              "      <td>Matthew McConaughey,Reese Witherspoon, Seth Ma...</td>\n",
              "      <td>2016</td>\n",
              "      <td>108</td>\n",
              "      <td>7.2</td>\n",
              "      <td>60545</td>\n",
              "      <td>270.32</td>\n",
              "    </tr>\n",
              "    <tr>\n",
              "      <th>4</th>\n",
              "      <td>5</td>\n",
              "      <td>Suicide Squad</td>\n",
              "      <td>Action,Adventure,Fantasy</td>\n",
              "      <td>A secret government agency recruits some of th...</td>\n",
              "      <td>David Ayer</td>\n",
              "      <td>Will Smith, Jared Leto, Margot Robbie, Viola D...</td>\n",
              "      <td>2016</td>\n",
              "      <td>123</td>\n",
              "      <td>6.2</td>\n",
              "      <td>393727</td>\n",
              "      <td>325.02</td>\n",
              "    </tr>\n",
              "  </tbody>\n",
              "</table>\n",
              "</div>"
            ],
            "text/plain": [
              "   Rank                    Title  ...   Votes Revenue (Millions)\n",
              "0     1  Guardians of the Galaxy  ...  757074             333.13\n",
              "1     2               Prometheus  ...  485820             126.46\n",
              "2     3                    Split  ...  157606             138.12\n",
              "3     4                     Sing  ...   60545             270.32\n",
              "4     5            Suicide Squad  ...  393727             325.02\n",
              "\n",
              "[5 rows x 11 columns]"
            ]
          },
          "metadata": {
            "tags": []
          },
          "execution_count": 25
        }
      ]
    },
    {
      "cell_type": "code",
      "metadata": {
        "colab": {
          "base_uri": "https://localhost:8080/",
          "height": 0
        },
        "id": "8KZ0fHorpfNa",
        "outputId": "563d8927-bb0f-416e-a433-5d1f24f5a964"
      },
      "source": [
        "df.dropna(inplace=True)\n",
        "df.isna().sum()"
      ],
      "execution_count": 26,
      "outputs": [
        {
          "output_type": "execute_result",
          "data": {
            "text/plain": [
              "Rank                  0\n",
              "Title                 0\n",
              "Genre                 0\n",
              "Description           0\n",
              "Director              0\n",
              "Actors                0\n",
              "Year                  0\n",
              "Runtime (Minutes)     0\n",
              "Rating                0\n",
              "Votes                 0\n",
              "Revenue (Millions)    0\n",
              "dtype: int64"
            ]
          },
          "metadata": {
            "tags": []
          },
          "execution_count": 26
        }
      ]
    },
    {
      "cell_type": "markdown",
      "metadata": {
        "id": "-as1k5YATAAy"
      },
      "source": [
        "\n",
        "\n",
        "---\n",
        "\n"
      ]
    },
    {
      "cell_type": "markdown",
      "metadata": {
        "id": "U3MvhI6rlmow"
      },
      "source": [
        "# 10. Apply( ) functions"
      ]
    },
    {
      "cell_type": "code",
      "metadata": {
        "colab": {
          "base_uri": "https://localhost:8080/",
          "height": 0
        },
        "id": "6GJfe9oypWes",
        "outputId": "2d5ba7ff-75c0-4d2d-f6c0-a1ad95d27cd0"
      },
      "source": [
        "df['Revenue (Millions)'].apply(np.sum)"
      ],
      "execution_count": 31,
      "outputs": [
        {
          "output_type": "execute_result",
          "data": {
            "text/plain": [
              "0      333.13\n",
              "1      126.46\n",
              "2      138.12\n",
              "3      270.32\n",
              "4      325.02\n",
              "        ...  \n",
              "993     60.13\n",
              "994     54.72\n",
              "996     17.54\n",
              "997     58.01\n",
              "999     19.64\n",
              "Name: Revenue (Millions), Length: 872, dtype: float64"
            ]
          },
          "metadata": {
            "tags": []
          },
          "execution_count": 31
        }
      ]
    },
    {
      "cell_type": "markdown",
      "metadata": {
        "id": "7B6M7lRNS-kb"
      },
      "source": [
        "\n",
        "\n",
        "---\n",
        "\n"
      ]
    }
  ]
}