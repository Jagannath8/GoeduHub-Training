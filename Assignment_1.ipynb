{
  "nbformat": 4,
  "nbformat_minor": 0,
  "metadata": {
    "colab": {
      "name": "Assignment_1.ipynb",
      "provenance": [],
      "collapsed_sections": [],
      "authorship_tag": "ABX9TyNuxD+1eUM8gfm9In+ywlFK",
      "include_colab_link": true
    },
    "kernelspec": {
      "name": "python3",
      "display_name": "Python 3"
    },
    "language_info": {
      "name": "python"
    }
  },
  "cells": [
    {
      "cell_type": "markdown",
      "metadata": {
        "id": "view-in-github",
        "colab_type": "text"
      },
      "source": [
        "<a href=\"https://colab.research.google.com/github/Jagannath8/GoeduHub-Training/blob/main/Assignment_1.ipynb\" target=\"_parent\"><img src=\"https://colab.research.google.com/assets/colab-badge.svg\" alt=\"Open In Colab\"/></a>"
      ]
    },
    {
      "cell_type": "markdown",
      "metadata": {
        "id": "24dk9hqh9Xy8"
      },
      "source": [
        "# **Assignment 1**"
      ]
    },
    {
      "cell_type": "markdown",
      "metadata": {
        "id": "kXS8mTDF9fwN"
      },
      "source": [
        "1. We are having 3 list like this\n",
        "\n",
        "Colors = [“Yellow”,”Green”,”White”,”Black”]\n",
        "\n",
        "Fruits=[“Apple”,”Papaya”,”Mango”,”Orange”]\n",
        "\n",
        "Animals=[“Tiger”,”Lion”,”Deer”,”Zebra”]\n",
        "\n",
        "  i. Write a program that asks user to enter a Color/Fruit/Animal name and it should tell which category belongs to , like its is a fruit or color or Animal\n",
        "\n",
        " ii. Write a program that asks user to enter two cities and it tells you if they both are in same country or not. For example if I enter yellow and Black, it will print \"Both are colors\" but if I enter yellow and Tiger it should print \"They don't belong to same category\""
      ]
    },
    {
      "cell_type": "code",
      "metadata": {
        "colab": {
          "base_uri": "https://localhost:8080/"
        },
        "id": "V9a97ZPY89Dx",
        "outputId": "88837e76-01fe-4f00-95a3-7f8c271f2651"
      },
      "source": [
        "Colors = [\"Yellow\",\"Green\",\"White\",\"Black\"]\n",
        "Fruits=[\"Apple\",\"Papaya\",\"Mango\",\"Orange\"]\n",
        "Animals=[\"Tiger\",\"Lion\",\"Deer\",\"Zebra\"]\n",
        "\n",
        "name = input(\"Enter a Color/Fruit/Animal name: \")\n",
        "if name in Colors:\n",
        "  print(\"It is a color\")\n",
        "elif name in Fruits:\n",
        "  print(\"It is a fruit\")\n",
        "elif name in Animals:\n",
        "  print(\"It is an animal\")\n",
        "else:\n",
        "  print(\"Wrong input\")\n"
      ],
      "execution_count": null,
      "outputs": [
        {
          "output_type": "stream",
          "text": [
            "Enter a Color/Fruit/Animal name: Apple\n",
            "It is a fruit\n"
          ],
          "name": "stdout"
        }
      ]
    },
    {
      "cell_type": "code",
      "metadata": {
        "colab": {
          "base_uri": "https://localhost:8080/"
        },
        "id": "f7lShvvNAJt3",
        "outputId": "266c5144-457b-4c86-8a77-c79369957b51"
      },
      "source": [
        "Colors = [\"Yellow\",\"Green\",\"White\",\"Black\"]\n",
        "Fruits = [\"Apple\",\"Papaya\",\"Mango\",\"Orange\"]\n",
        "Animals = [\"Tiger\",\"Lion\",\"Deer\",\"Zebra\"]\n",
        "\n",
        "choice1 = input(\"Enter 1st choice: \")\n",
        "choice2 = input(\"Enter 2nd choice: \")\n",
        "\n",
        "if choice1 in Colors and choice2 in Colors:\n",
        "  print(\"Both are colors\")\n",
        "\n",
        "elif choice1 in Fruits and choice2 in Fruits:\n",
        "  print(\"Both are fruits\")\n",
        "  \n",
        "elif choice1 in Animals and choice2 in Animals:\n",
        "  print(\"Both are animals\")\n",
        "\n",
        "else:\n",
        "    print(\"They don't belong to same category\")"
      ],
      "execution_count": null,
      "outputs": [
        {
          "output_type": "stream",
          "text": [
            "Enter 1st choice: Lion\n",
            "Enter 2nd choice: Deer\n",
            "Both are animals\n"
          ],
          "name": "stdout"
        }
      ]
    },
    {
      "cell_type": "markdown",
      "metadata": {
        "id": "tXPijNTicnXo"
      },
      "source": [
        "****************************************************************************************************************************************************************"
      ]
    },
    {
      "cell_type": "markdown",
      "metadata": {
        "id": "hdnH32SXMmnd"
      },
      "source": [
        "2.  Write a python program that can tell you if your grade score good or not . Good Score range is 40 to 60.\n",
        "\n",
        "  i. Ask user to enter his score.\n",
        "\n",
        "  ii. If it is below 40 to 60 range then print that score is low\n",
        "\n",
        "  iii. If it is above 60 then print that it is good otherwise print that it is normal"
      ]
    },
    {
      "cell_type": "code",
      "metadata": {
        "colab": {
          "base_uri": "https://localhost:8080/"
        },
        "id": "-5mCc0mZMocn",
        "outputId": "40ec2095-7df0-42c8-b212-eff296e5f85f"
      },
      "source": [
        "score = int(input(\"Enter your score: \"))\n",
        "if score>60:\n",
        "  print(\"Good score!\")\n",
        "elif score>=40 and score<=60:\n",
        "  print(\"Normal score\")\n",
        "else:\n",
        "  print(\"Low score!\")"
      ],
      "execution_count": null,
      "outputs": [
        {
          "output_type": "stream",
          "text": [
            "Enter your score: 82\n",
            "Good score!\n"
          ],
          "name": "stdout"
        }
      ]
    },
    {
      "cell_type": "markdown",
      "metadata": {
        "id": "u8ZAToakc1UV"
      },
      "source": [
        "****************************************************************************************************************************************************************"
      ]
    },
    {
      "cell_type": "markdown",
      "metadata": {
        "id": "Qg1FQx4zNyrj"
      },
      "source": [
        "3.  After appearing in exam 10 times you got this result,\n",
        "\n",
        "result = [\"Pass\",\"Fail\",\"Fail\",\"Pass\",\"Fail\",\"Pass\",\"Pass\",\"Fail\",\"Fail\",\"Fail\"]\n",
        "\n",
        "Using for loop figure out how many times you got Pass"
      ]
    },
    {
      "cell_type": "code",
      "metadata": {
        "colab": {
          "base_uri": "https://localhost:8080/"
        },
        "id": "F-BgniYgN1BV",
        "outputId": "dcbb3880-a4d1-46fc-8f4f-78571d08a8c6"
      },
      "source": [
        "result = [\"Pass\",\"Fail\",\"Fail\",\"Pass\",\"Fail\",\"Pass\",\"Pass\",\"Fail\",\"Fail\",\"Fail\"]\n",
        "count=0\n",
        "for i in result:\n",
        "  if i == \"Pass\" in result:\n",
        "    count=count+1\n",
        "  else:\n",
        "    pass\n",
        "print(\"He got pass\", count, \"times\")"
      ],
      "execution_count": null,
      "outputs": [
        {
          "output_type": "stream",
          "text": [
            "He got pass 4 times\n"
          ],
          "name": "stdout"
        }
      ]
    },
    {
      "cell_type": "markdown",
      "metadata": {
        "id": "aqzTeH65c-NO"
      },
      "source": [
        "****************************************************************************************************************************************************************\n"
      ]
    },
    {
      "cell_type": "markdown",
      "metadata": {
        "id": "8X8DH4S_QXIt"
      },
      "source": [
        "4.  Write a program that prints following shape\n",
        "\n",
        "*\n",
        "\n",
        "* *\n",
        "\n",
        "* * *\n",
        "\n",
        "* * * *\n",
        "\n",
        "* * * * *\n",
        "\n",
        "* * * *\n",
        "\n",
        "* * *\n",
        "\n",
        "* *\n",
        "\n",
        "*"
      ]
    },
    {
      "cell_type": "code",
      "metadata": {
        "colab": {
          "base_uri": "https://localhost:8080/"
        },
        "id": "mHzLQLhmQZi2",
        "outputId": "0245a29d-9be6-4f74-b7c3-1e397260a0ab"
      },
      "source": [
        "def upperHalf():\n",
        "    for i in range(5):\n",
        "        for j in range(i+1):\n",
        "            print(end=\"* \")\n",
        "        print()\n",
        "def lowerHalf():\n",
        "    for i in range(5):\n",
        "        for j in range(i, 4):\n",
        "            print(end=\"* \")\n",
        "        print()\n",
        "\n",
        "upperHalf()\n",
        "lowerHalf()"
      ],
      "execution_count": null,
      "outputs": [
        {
          "output_type": "stream",
          "text": [
            "* \n",
            "* * \n",
            "* * * \n",
            "* * * * \n",
            "* * * * * \n",
            "* * * * \n",
            "* * * \n",
            "* * \n",
            "* \n",
            "\n"
          ],
          "name": "stdout"
        }
      ]
    },
    {
      "cell_type": "markdown",
      "metadata": {
        "id": "8_LXmVgedBSz"
      },
      "source": [
        "****************************************************************************************************************************************************************"
      ]
    },
    {
      "cell_type": "markdown",
      "metadata": {
        "id": "VBvHlHKLRhKM"
      },
      "source": [
        "5.   Lets say you are running a 50 km race. Write a program that,\n",
        "\n",
        "-Upon completing each 10 km asks you \"are you tired?\"\n",
        "\n",
        "-If you reply \"yes\" then it should break and print \"you didn't finish the race\"\n",
        "\n",
        "-If you reply \"no\" then it should continue and ask \"are you tired\" on every km\n",
        "\n",
        "-If you finish all 50 km then it should print congratulations message"
      ]
    },
    {
      "cell_type": "code",
      "metadata": {
        "colab": {
          "base_uri": "https://localhost:8080/"
        },
        "id": "hLiX74peRoeV",
        "outputId": "a8fed6fc-abe8-4ae6-a16d-cfe35d8f5dc7"
      },
      "source": [
        "\n",
        "for km in range(10,51,10):\n",
        "  if km==50:\n",
        "    print(\"You are at\", km, \"km\")\n",
        "    print(\"Congratulations! You won the race.\")\n",
        "    break\n",
        "  print(\"You are at\", km, \"km\")\n",
        "  ans = input(\"Are you tired? \")\n",
        "  if ans == \"yes\":\n",
        "    print(\"You didn't finish the race\")\n",
        "    break\n",
        "  elif ans == \"no\":\n",
        "    pass\n",
        "\n"
      ],
      "execution_count": null,
      "outputs": [
        {
          "output_type": "stream",
          "text": [
            "You are at 10 km\n",
            "Are you tired? no\n",
            "You are at 20 km\n",
            "Are you tired? no\n",
            "You are at 30 km\n",
            "Are you tired? yes\n",
            "You didn't finish the race\n"
          ],
          "name": "stdout"
        }
      ]
    },
    {
      "cell_type": "markdown",
      "metadata": {
        "id": "kqCu92cQdEgX"
      },
      "source": [
        "****************************************************************************************************************************************************************"
      ]
    },
    {
      "cell_type": "markdown",
      "metadata": {
        "id": "DmpaLRIDSIR_"
      },
      "source": [
        "7.   Print square of all numbers between 10 to 20 except even numbers"
      ]
    },
    {
      "cell_type": "code",
      "metadata": {
        "colab": {
          "base_uri": "https://localhost:8080/"
        },
        "id": "ztXw7xpxSJY4",
        "outputId": "badaeef7-6a2a-45d5-e2eb-c3fc24c71068"
      },
      "source": [
        "for i in range(10, 20):\n",
        "  if i%2 != 0: \n",
        "    print(\"Square of\", i, \"is\", i*i)\n"
      ],
      "execution_count": null,
      "outputs": [
        {
          "output_type": "stream",
          "text": [
            "Square of 11 is 121\n",
            "Square of 13 is 169\n",
            "Square of 15 is 225\n",
            "Square of 17 is 289\n",
            "Square of 19 is 361\n"
          ],
          "name": "stdout"
        }
      ]
    },
    {
      "cell_type": "markdown",
      "metadata": {
        "id": "Eg5urWn_dHPq"
      },
      "source": [
        "****************************************************************************************************************************************************************"
      ]
    },
    {
      "cell_type": "markdown",
      "metadata": {
        "id": "8iSEi8z6UQZC"
      },
      "source": [
        "8.  Your Marks for five Test(test1 to test5) looks like this,\n",
        "\n",
        "marks_list = [65, 75, 2100, 95, 83]\n",
        "\n",
        "Write a program that asks you to enter marks and program should tell you in which test that expense occurred. If expense is not found then it should print that as well."
      ]
    },
    {
      "cell_type": "code",
      "metadata": {
        "colab": {
          "base_uri": "https://localhost:8080/"
        },
        "id": "Ly7h9NuVURpK",
        "outputId": "1a82a3d9-f8f5-47b9-ad42-de08abd475be"
      },
      "source": [
        "mark = int(input(\"Enter marks: \"))\n",
        "marks_list = [65, 75, 2100, 95, 83]\n",
        "# for mark in range (len(marks_list)):\n",
        "if mark in marks_list:\n",
        "    print(\"Test\", marks_list.index(mark)+1)"
      ],
      "execution_count": null,
      "outputs": [
        {
          "output_type": "stream",
          "text": [
            "Enter marks: 2100\n",
            "Test 3\n"
          ],
          "name": "stdout"
        }
      ]
    }
  ]
}