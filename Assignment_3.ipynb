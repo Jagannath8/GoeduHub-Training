{
  "nbformat": 4,
  "nbformat_minor": 0,
  "metadata": {
    "colab": {
      "name": "Assignment_3.ipynb",
      "provenance": [],
      "collapsed_sections": [],
      "authorship_tag": "ABX9TyPxMq0RkF7AsEp0KU2FbHdg",
      "include_colab_link": true
    },
    "kernelspec": {
      "name": "python3",
      "display_name": "Python 3"
    },
    "language_info": {
      "name": "python"
    }
  },
  "cells": [
    {
      "cell_type": "markdown",
      "metadata": {
        "id": "view-in-github",
        "colab_type": "text"
      },
      "source": [
        "<a href=\"https://colab.research.google.com/github/Jagannath8/GoeduHub-Training/blob/main/Assignment_3.ipynb\" target=\"_parent\"><img src=\"https://colab.research.google.com/assets/colab-badge.svg\" alt=\"Open In Colab\"/></a>"
      ]
    },
    {
      "cell_type": "markdown",
      "metadata": {
        "id": "r67zwTRDPTCX"
      },
      "source": [
        "# **GO_STP_579 -> Jagannath Pal**"
      ]
    },
    {
      "cell_type": "markdown",
      "metadata": {
        "id": "c4S9kN_mPW-D"
      },
      "source": [
        "# ***Assignment_3***\n",
        "\n",
        "---\n"
      ]
    },
    {
      "cell_type": "markdown",
      "metadata": {
        "id": "ZgzX-DyGXXA6"
      },
      "source": [
        "# Question on Dictionary"
      ]
    },
    {
      "cell_type": "markdown",
      "metadata": {
        "id": "UXGqk5EWPlNo"
      },
      "source": [
        "Q.1 Write a Python Program to sort (ascending and descending) a dictionary by value. "
      ]
    },
    {
      "cell_type": "code",
      "metadata": {
        "colab": {
          "base_uri": "https://localhost:8080/",
          "height": 0
        },
        "id": "XTMiOjanPRq2",
        "outputId": "3e64fa3e-0025-48dc-b2e7-427d036ce9b4"
      },
      "source": [
        "import operator\n",
        "d = {1: 100, 3: 400, 4: 300, 2: 500, 0: 0}\n",
        "s = dict(sorted(d.items(), key=operator.itemgetter(1)))\n",
        "print('Ascending order : ',s)\n",
        "s1 = dict(sorted(d.items(), key=operator.itemgetter(1), reverse=True))\n",
        "print('Descending order : ',s1)"
      ],
      "execution_count": 3,
      "outputs": [
        {
          "output_type": "stream",
          "text": [
            "Ascending order :  {0: 0, 1: 100, 4: 300, 3: 400, 2: 500}\n",
            "Descending order :  {2: 500, 3: 400, 4: 300, 1: 100, 0: 0}\n"
          ],
          "name": "stdout"
        }
      ]
    },
    {
      "cell_type": "markdown",
      "metadata": {
        "id": "7ZGFdi5UQxab"
      },
      "source": [
        "\n",
        "\n",
        "---\n",
        "\n"
      ]
    },
    {
      "cell_type": "markdown",
      "metadata": {
        "id": "XC_LOZ9MQyju"
      },
      "source": [
        "Q.2 Write a Python Program to add a key to a dictionary. \n",
        "\n",
        "Sample Dictionary : {0: 10, 1: 20}\n",
        "Expected Result : {0: 10, 1: 20, 2: 30}"
      ]
    },
    {
      "cell_type": "code",
      "metadata": {
        "colab": {
          "base_uri": "https://localhost:8080/",
          "height": 0
        },
        "id": "yMgeOn90Q4Tt",
        "outputId": "0e682329-ecd1-4f11-f535-fe4ad02024b8"
      },
      "source": [
        "d1 = {0: 10, 1: 20, 2: 30}\n",
        "print(d1)"
      ],
      "execution_count": 5,
      "outputs": [
        {
          "output_type": "stream",
          "text": [
            "{0: 10, 1: 20, 2: 30}\n"
          ],
          "name": "stdout"
        }
      ]
    },
    {
      "cell_type": "markdown",
      "metadata": {
        "id": "RvBJYxXJRKTS"
      },
      "source": [
        "\n",
        "\n",
        "---\n",
        "\n"
      ]
    },
    {
      "cell_type": "markdown",
      "metadata": {
        "id": "SwyGKqCxRLx6"
      },
      "source": [
        "Q.3 Write a  program asks for City name and Temperature and builds a dictionary using that Later on you can input City name and it will tell you the Temperature of that City."
      ]
    },
    {
      "cell_type": "code",
      "metadata": {
        "colab": {
          "base_uri": "https://localhost:8080/",
          "height": 0
        },
        "id": "jcXWp74cRPFD",
        "outputId": "6c45f41d-df8d-4f2f-fe9a-3dfa7b5dfc81"
      },
      "source": [
        "city = {'Mumbai': 40, 'Delhi': 45, 'Bangalore': 43, 'Kolkata': 42, 'Hyderabad': 47}\n",
        "print(city)\n",
        "query = input(\"Enter city: \")\n",
        "print(city.get(query)) "
      ],
      "execution_count": 48,
      "outputs": [
        {
          "output_type": "stream",
          "text": [
            "{'Mumbai': 40, 'Delhi': 45, 'Bangalore': 43, 'Kolkata': 42, 'Hyderabad': 47}\n",
            "Enter city: Mumbai\n",
            "40\n"
          ],
          "name": "stdout"
        }
      ]
    },
    {
      "cell_type": "markdown",
      "metadata": {
        "id": "QrJhHeBOUrEC"
      },
      "source": [
        "\n",
        "\n",
        "---\n",
        "\n"
      ]
    },
    {
      "cell_type": "markdown",
      "metadata": {
        "id": "mdeXoeh2UsDW"
      },
      "source": [
        "Q. 4 Write a Python program to convert list to list of dictionaries.\n",
        "\n",
        "Sample lists: [\"Black\", \"Red\", \"Maroon\", \"Yellow\"], [\"#000000\", \"#FF0000\", \"#800000\", \"#FFFF00\"]\n",
        "\n",
        "Expected Output: [{'color_name': 'Black', 'color_code': '#000000'}, {'color_name': 'Red', 'color_code': '#FF0000'}, {'color_name': 'Maroon', 'color_code': '#800000'}, {'color_name': 'Yellow', 'color_code': '#FFFF00'}]"
      ]
    },
    {
      "cell_type": "code",
      "metadata": {
        "colab": {
          "base_uri": "https://localhost:8080/",
          "height": 0
        },
        "id": "9rRgEttfUxYH",
        "outputId": "5e3a2210-de47-41dc-80f8-73e6ef31c355"
      },
      "source": [
        "color_name = [\"Black\", \"Red\", \"Maroon\", \"Yellow\"]\n",
        "color_code = [\"#000000\", \"#FF0000\", \"#800000\", \"#FFFF00\"]\n",
        "d = dict(zip(color_name, color_code))\n",
        "print(d)"
      ],
      "execution_count": 9,
      "outputs": [
        {
          "output_type": "stream",
          "text": [
            "{'Black': '#000000', 'Red': '#FF0000', 'Maroon': '#800000', 'Yellow': '#FFFF00'}\n"
          ],
          "name": "stdout"
        }
      ]
    },
    {
      "cell_type": "markdown",
      "metadata": {
        "id": "SLaj-EFSVZ2x"
      },
      "source": [
        "\n",
        "\n",
        "---\n",
        "\n"
      ]
    },
    {
      "cell_type": "markdown",
      "metadata": {
        "id": "BWPUnjQrVbUI"
      },
      "source": [
        "Q. 5 We have following information on Employees and their Salary (Salary is in lakhs),\n",
        "\n",
        "Employee\tSalary\n",
        "\n",
        "John\t     14\n",
        "\n",
        "Smith\t     13\n",
        "\n",
        "Alice\t     32\n",
        "\n",
        "Daneil   \t 21\n",
        "\n",
        "1) Using above create a dictionary of Employees and their Salary\n",
        "\n",
        "2) Write a program that asks user for three type of inputs,\n",
        "\n",
        "  a) print: if user enter print then it should print all Employees with their   Salary in this format,\n",
        "      John ==>14\n",
        "      Smith ==>13\n",
        "      Alice ==>32\n",
        "      Daneil ==>21\n",
        "\n",
        "  b) add: if user input adds then it should further ask for an Employee name to add. If Employee already exists in our dataset then it should print that it exists and do nothing. If it doesn't then it asks for Salary and add that new Employee/Salary in our dictionary and print it\n",
        "\n",
        "  c) remove: when user inputs remove it should ask for an Employee to remove. If an Employee exists in our dictionary then remove it and print a new dictionary using format shown above in (a). Else print that Employee doesn't exist!\n",
        "\n",
        "  d) query: on this again ask the user for which Employee he or she wants to query. When a user inputs that Employee it will print the Salary of that Employee."
      ]
    },
    {
      "cell_type": "code",
      "metadata": {
        "colab": {
          "base_uri": "https://localhost:8080/",
          "height": 0
        },
        "id": "SCPdvK4hVisP",
        "outputId": "655338f0-66fc-4f1b-fd90-51cf94067f1a"
      },
      "source": [
        "employee = {'John': 1400000, 'Smith': 1300000, 'Alice': 3200000, 'Daneil': 2100000}\n",
        "print(employee)\n",
        "\n",
        "option = int(input(\"Enter your option : \\n1.Print 2.Add 3.Remove 4.Query \\n\"))\n",
        "if option == 1:\n",
        "  for i in employee :\n",
        "    print(i, \"==>\", employee[i])\n",
        "\n",
        "elif option == 2:\n",
        "  name = input(\"Enter name: \")\n",
        "  sal = int(input(\"Enter salary: \"))\n",
        "  if name in employee:\n",
        "    print(\"Employee already exists!\")\n",
        "  else:\n",
        "    employee.update({name: sal})\n",
        "  for i in employee :\n",
        "    print(i, \"==>\", employee[i])\n",
        "\n",
        "elif option == 3:\n",
        "  rmv = input(\"Enter name to be removed: \")\n",
        "  employee.pop(rmv)\n",
        "  for i in employee :\n",
        "    print(i, \"==>\", employee[i])\n",
        "\n",
        "elif option == 4:\n",
        "  name = input(\"Enter name you want to query: \")\n",
        "  print(employee.get(name)) \n",
        "\n",
        "else:\n",
        "  print(\"Wrong input!\")\n"
      ],
      "execution_count": 45,
      "outputs": [
        {
          "output_type": "stream",
          "text": [
            "{'John': 1400000, 'Smith': 1300000, 'Alice': 3200000, 'Daneil': 2100000}\n",
            "Enter your option : \n",
            "1.Print 2.Add 3.Remove 4.Query \n",
            "2\n",
            "Enter name: Ravi\n",
            "Enter salary: 4500000\n",
            "John ==> 1400000\n",
            "Smith ==> 1300000\n",
            "Alice ==> 3200000\n",
            "Daneil ==> 2100000\n",
            "Ravi ==> 4500000\n"
          ],
          "name": "stdout"
        }
      ]
    },
    {
      "cell_type": "markdown",
      "metadata": {
        "id": "CAu-eyvOGDYW"
      },
      "source": [
        "\n",
        "\n",
        "---\n",
        "\n"
      ]
    },
    {
      "cell_type": "markdown",
      "metadata": {
        "id": "meaCA57KGFTh"
      },
      "source": [
        "# Question on Sets"
      ]
    },
    {
      "cell_type": "markdown",
      "metadata": {
        "id": "4RuN0OALGLth"
      },
      "source": [
        "Q.1 What is the difference between a set and a frozenset? Create any set and try to use frozenset(setname)."
      ]
    },
    {
      "cell_type": "markdown",
      "metadata": {
        "id": "JwvVwuzGGO7K"
      },
      "source": [
        "Set: A set is a finite collection of unique elements.\n",
        "Set is also a sequence, and it is iterable.\n",
        "Unlike list or tuple, set can not have duplicate values.\n",
        "Set is an un-ordered collection of object.\n",
        "A set is mutable; we can add, modify and delete elements from a set.\n",
        "\n",
        "Frozenset: A frozenset is an immutable set.\n",
        "Like set Its an un-ordered collection of unique elements.\n",
        "As frozenset is immutable, we cannot add, modify or delete elements."
      ]
    },
    {
      "cell_type": "code",
      "metadata": {
        "colab": {
          "base_uri": "https://localhost:8080/",
          "height": 0
        },
        "id": "d45HaCa_JSPe",
        "outputId": "f9764b6d-7086-4dd7-caa8-7731b15af1ae"
      },
      "source": [
        "vowels = ('a', 'e', 'i', 'o', 'u')\n",
        "fSet = frozenset(vowels)\n",
        "print('The frozen set is:', fSet)"
      ],
      "execution_count": 17,
      "outputs": [
        {
          "output_type": "stream",
          "text": [
            "The frozen set is: frozenset({'e', 'o', 'u', 'i', 'a'})\n"
          ],
          "name": "stdout"
        }
      ]
    },
    {
      "cell_type": "markdown",
      "metadata": {
        "id": "kDuhvvwoM10Y"
      },
      "source": [
        "\n",
        "\n",
        "---\n",
        "\n"
      ]
    },
    {
      "cell_type": "markdown",
      "metadata": {
        "id": "OFcrYppOM3Ef"
      },
      "source": [
        "Q.2 Find the elements in a given set that are not in another set\n",
        "\n",
        "    set1 = {10,20,30,40,50}\n",
        "    set2 = {40,50,60,70,80}\n",
        "\n",
        " Difference between set1 and set2 is {10,20,30}"
      ]
    },
    {
      "cell_type": "code",
      "metadata": {
        "colab": {
          "base_uri": "https://localhost:8080/",
          "height": 0
        },
        "id": "kIKSdoCYM6ZR",
        "outputId": "43ca91cc-534a-4ebd-d3af-8cd9400bbe84"
      },
      "source": [
        "set1 = {10,20,30,40,50}\n",
        "set2 = {40,50,60,70,80}\n",
        "diff = set1 - set2\n",
        "print(diff)"
      ],
      "execution_count": 18,
      "outputs": [
        {
          "output_type": "stream",
          "text": [
            "{10, 20, 30}\n"
          ],
          "name": "stdout"
        }
      ]
    },
    {
      "cell_type": "markdown",
      "metadata": {
        "id": "wDNVW578NSME"
      },
      "source": [
        "\n",
        "\n",
        "---\n",
        "\n"
      ]
    }
  ]
}