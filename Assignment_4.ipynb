{
  "nbformat": 4,
  "nbformat_minor": 0,
  "metadata": {
    "colab": {
      "name": "Assignment_4.ipynb",
      "provenance": [],
      "authorship_tag": "ABX9TyOKPOBWcZJJFWdliPzssE9d",
      "include_colab_link": true
    },
    "kernelspec": {
      "name": "python3",
      "display_name": "Python 3"
    },
    "language_info": {
      "name": "python"
    }
  },
  "cells": [
    {
      "cell_type": "markdown",
      "metadata": {
        "id": "view-in-github",
        "colab_type": "text"
      },
      "source": [
        "<a href=\"https://colab.research.google.com/github/Jagannath8/GoeduHub-Training/blob/main/Assignment_4.ipynb\" target=\"_parent\"><img src=\"https://colab.research.google.com/assets/colab-badge.svg\" alt=\"Open In Colab\"/></a>"
      ]
    },
    {
      "cell_type": "markdown",
      "metadata": {
        "id": "QLYGc7nl2NPQ"
      },
      "source": [
        "# **GO_STP_579 -> Jagannath Pal**"
      ]
    },
    {
      "cell_type": "markdown",
      "metadata": {
        "id": "Igw__sfh2P-Q"
      },
      "source": [
        "# ***Assignment_4***\n",
        "\n",
        "---\n"
      ]
    },
    {
      "cell_type": "markdown",
      "metadata": {
        "id": "VVT-tVUa2za6"
      },
      "source": [
        "1. Import the numpy package under the name np and Print the numpy version and the configuration \n"
      ]
    },
    {
      "cell_type": "code",
      "metadata": {
        "colab": {
          "base_uri": "https://localhost:8080/"
        },
        "id": "PuBlZztp17zk",
        "outputId": "4fe8d7d0-d60c-420d-a2e0-7da1ab387e27"
      },
      "source": [
        "import numpy as np\n",
        "print(np.__version__)\n",
        "print(np.show_config())"
      ],
      "execution_count": 2,
      "outputs": [
        {
          "output_type": "stream",
          "text": [
            "1.19.5\n",
            "blas_mkl_info:\n",
            "  NOT AVAILABLE\n",
            "blis_info:\n",
            "  NOT AVAILABLE\n",
            "openblas_info:\n",
            "    libraries = ['openblas', 'openblas']\n",
            "    library_dirs = ['/usr/local/lib']\n",
            "    language = c\n",
            "    define_macros = [('HAVE_CBLAS', None)]\n",
            "blas_opt_info:\n",
            "    libraries = ['openblas', 'openblas']\n",
            "    library_dirs = ['/usr/local/lib']\n",
            "    language = c\n",
            "    define_macros = [('HAVE_CBLAS', None)]\n",
            "lapack_mkl_info:\n",
            "  NOT AVAILABLE\n",
            "openblas_lapack_info:\n",
            "    libraries = ['openblas', 'openblas']\n",
            "    library_dirs = ['/usr/local/lib']\n",
            "    language = c\n",
            "    define_macros = [('HAVE_CBLAS', None)]\n",
            "lapack_opt_info:\n",
            "    libraries = ['openblas', 'openblas']\n",
            "    library_dirs = ['/usr/local/lib']\n",
            "    language = c\n",
            "    define_macros = [('HAVE_CBLAS', None)]\n",
            "None\n"
          ],
          "name": "stdout"
        }
      ]
    },
    {
      "cell_type": "markdown",
      "metadata": {
        "id": "ILzoPb4_25fG"
      },
      "source": [
        "\n",
        "\n",
        "---\n",
        "\n"
      ]
    },
    {
      "cell_type": "markdown",
      "metadata": {
        "id": "Kqp2yZ4V263d"
      },
      "source": [
        "2. Create a null vector of size 10"
      ]
    },
    {
      "cell_type": "code",
      "metadata": {
        "colab": {
          "base_uri": "https://localhost:8080/"
        },
        "id": "gVM4weAb2-55",
        "outputId": "50f96ff1-05e6-44a8-9dfa-5670573fee9d"
      },
      "source": [
        "import numpy as np\n",
        "x=np.zeros(10)\n",
        "print(x)"
      ],
      "execution_count": 3,
      "outputs": [
        {
          "output_type": "stream",
          "text": [
            "[0. 0. 0. 0. 0. 0. 0. 0. 0. 0.]\n"
          ],
          "name": "stdout"
        }
      ]
    },
    {
      "cell_type": "markdown",
      "metadata": {
        "id": "CANfize13yL9"
      },
      "source": [
        "\n",
        "\n",
        "---\n",
        "\n"
      ]
    },
    {
      "cell_type": "markdown",
      "metadata": {
        "id": "-W6vFV_63zrj"
      },
      "source": [
        "3. Create Simple 1-D array and check type and check data types in array\n"
      ]
    },
    {
      "cell_type": "code",
      "metadata": {
        "colab": {
          "base_uri": "https://localhost:8080/"
        },
        "id": "5aEknJZ534Ni",
        "outputId": "cdfc9844-b790-4ade-a160-9621c364c2b1"
      },
      "source": [
        "a = np.array([1,2,3,4,5])\n",
        "print(a.dtype)\n",
        "print(type(a))"
      ],
      "execution_count": 4,
      "outputs": [
        {
          "output_type": "stream",
          "text": [
            "int64\n",
            "<class 'numpy.ndarray'>\n"
          ],
          "name": "stdout"
        }
      ]
    },
    {
      "cell_type": "markdown",
      "metadata": {
        "id": "eZGOfAsA4RZo"
      },
      "source": [
        "\n",
        "\n",
        "---\n",
        "\n"
      ]
    },
    {
      "cell_type": "markdown",
      "metadata": {
        "id": "afU9m-0f4SX4"
      },
      "source": [
        "4. How to find number of dimensions, bytes per element and bytes of memory used?"
      ]
    },
    {
      "cell_type": "code",
      "metadata": {
        "colab": {
          "base_uri": "https://localhost:8080/"
        },
        "id": "8DfotXPp4hZQ",
        "outputId": "5613dec0-b1ae-4299-967b-18e564350afe"
      },
      "source": [
        "c = np.array([[1,2,3], [10,20,30]])\n",
        "print(\"Dimension: \", c.ndim)\n",
        "print(\"Size of the array: \", c.size)\n",
        "print(\"Memory size of one array element in bytes: \", c.itemsize)\n",
        "print(\"Memory size of numpy array in bytes:\", c.size * c.itemsize)"
      ],
      "execution_count": 5,
      "outputs": [
        {
          "output_type": "stream",
          "text": [
            "Dimension:  2\n",
            "Size of the array:  6\n",
            "Memory size of one array element in bytes:  8\n",
            "Memory size of numpy array in bytes: 48\n"
          ],
          "name": "stdout"
        }
      ]
    },
    {
      "cell_type": "markdown",
      "metadata": {
        "id": "ybIX2_rr6fqB"
      },
      "source": [
        "\n",
        "\n",
        "---\n",
        "\n"
      ]
    },
    {
      "cell_type": "markdown",
      "metadata": {
        "id": "bCndAVKm6hNg"
      },
      "source": [
        "5. Create a null vector of size 10 but the fifth value which is 1\n",
        "\n",
        "\n",
        "---\n",
        "\n"
      ]
    },
    {
      "cell_type": "code",
      "metadata": {
        "colab": {
          "base_uri": "https://localhost:8080/"
        },
        "id": "_0Dp9Wp_6nDO",
        "outputId": "a1ff1e0b-dca8-4a7a-9725-ef1ad9f4a9bf"
      },
      "source": [
        "x1 = np.zeros(10, dtype = int)\n",
        "x1[4]=1\n",
        "print(x1)"
      ],
      "execution_count": 6,
      "outputs": [
        {
          "output_type": "stream",
          "text": [
            "[0 0 0 0 1 0 0 0 0 0]\n"
          ],
          "name": "stdout"
        }
      ]
    },
    {
      "cell_type": "markdown",
      "metadata": {
        "id": "vKydRv608KA6"
      },
      "source": [
        "\n",
        "\n",
        "---\n",
        "\n"
      ]
    },
    {
      "cell_type": "markdown",
      "metadata": {
        "id": "nEtRqkC-8Lfo"
      },
      "source": [
        "6. Create a vector with values ranging from 10 to 49\n"
      ]
    },
    {
      "cell_type": "code",
      "metadata": {
        "colab": {
          "base_uri": "https://localhost:8080/"
        },
        "id": "Oj6np6KI8Ozr",
        "outputId": "772b278d-bdb2-4b11-e625-4e2704bdde98"
      },
      "source": [
        "np.arange(10, 49)"
      ],
      "execution_count": 7,
      "outputs": [
        {
          "output_type": "execute_result",
          "data": {
            "text/plain": [
              "array([10, 11, 12, 13, 14, 15, 16, 17, 18, 19, 20, 21, 22, 23, 24, 25, 26,\n",
              "       27, 28, 29, 30, 31, 32, 33, 34, 35, 36, 37, 38, 39, 40, 41, 42, 43,\n",
              "       44, 45, 46, 47, 48])"
            ]
          },
          "metadata": {
            "tags": []
          },
          "execution_count": 7
        }
      ]
    },
    {
      "cell_type": "markdown",
      "metadata": {
        "id": "2ev4UK8e-Azh"
      },
      "source": [
        "\n",
        "\n",
        "---\n",
        "\n"
      ]
    },
    {
      "cell_type": "markdown",
      "metadata": {
        "id": "Z72HDM9_-B9n"
      },
      "source": [
        "7. Reverse a vector (first element becomes last)\n"
      ]
    },
    {
      "cell_type": "code",
      "metadata": {
        "colab": {
          "base_uri": "https://localhost:8080/"
        },
        "id": "AmVPF0rX-E_K",
        "outputId": "09709d8f-c239-4713-f1fe-83e77d0d77aa"
      },
      "source": [
        "arr = np.arange(1, 10)\n",
        "print(arr)\n",
        "print(arr[::-1])"
      ],
      "execution_count": 8,
      "outputs": [
        {
          "output_type": "stream",
          "text": [
            "[1 2 3 4 5 6 7 8 9]\n",
            "[9 8 7 6 5 4 3 2 1]\n"
          ],
          "name": "stdout"
        }
      ]
    },
    {
      "cell_type": "markdown",
      "metadata": {
        "id": "MznJVnv6-cEz"
      },
      "source": [
        "\n",
        "\n",
        "---\n",
        "\n"
      ]
    },
    {
      "cell_type": "markdown",
      "metadata": {
        "id": "Zuqb3nWJ-dhc"
      },
      "source": [
        "8. Create a 3x3 matrix with values ranging from 0 to 8\n"
      ]
    },
    {
      "cell_type": "code",
      "metadata": {
        "colab": {
          "base_uri": "https://localhost:8080/"
        },
        "id": "YlGnGmM3-hK4",
        "outputId": "f1f56663-a6ad-40d9-f296-79343719bbaf"
      },
      "source": [
        "matrix = np.arange(0, 9)\n",
        "matrix.reshape(3, 3)"
      ],
      "execution_count": 9,
      "outputs": [
        {
          "output_type": "execute_result",
          "data": {
            "text/plain": [
              "array([[0, 1, 2],\n",
              "       [3, 4, 5],\n",
              "       [6, 7, 8]])"
            ]
          },
          "metadata": {
            "tags": []
          },
          "execution_count": 9
        }
      ]
    },
    {
      "cell_type": "markdown",
      "metadata": {
        "id": "ZWAZq3Q7_uEv"
      },
      "source": [
        "\n",
        "\n",
        "---\n",
        "\n"
      ]
    },
    {
      "cell_type": "markdown",
      "metadata": {
        "id": "bkgxgqSZ_vvt"
      },
      "source": [
        "9. Find indices of non-zero elements from [1,2,0,0,4,0]"
      ]
    },
    {
      "cell_type": "code",
      "metadata": {
        "colab": {
          "base_uri": "https://localhost:8080/"
        },
        "id": "AQJilLD-_0Tb",
        "outputId": "92050876-bfce-49af-8683-9831b6f00744"
      },
      "source": [
        "li =  [1,2,0,0,4,0]\n",
        "arr = np.array(li)\n",
        "li_new = list(np.nonzero(arr)[0]+1) \n",
        "print(\"The non zero index are:\", li_new)"
      ],
      "execution_count": 10,
      "outputs": [
        {
          "output_type": "stream",
          "text": [
            "The non zero index are: [1, 2, 5]\n"
          ],
          "name": "stdout"
        }
      ]
    },
    {
      "cell_type": "markdown",
      "metadata": {
        "id": "k6V_8JNELHnR"
      },
      "source": [
        "\n",
        "\n",
        "---\n",
        "\n"
      ]
    },
    {
      "cell_type": "markdown",
      "metadata": {
        "id": "z2Sc_VoBLIsq"
      },
      "source": [
        "10. Create a 3x3 identity matrix"
      ]
    },
    {
      "cell_type": "code",
      "metadata": {
        "colab": {
          "base_uri": "https://localhost:8080/"
        },
        "id": "KNVlx6x_LOVb",
        "outputId": "e594f385-7383-4883-a169-f36aa99c736f"
      },
      "source": [
        "identity = np.identity(3)\n",
        "print('3x3 matrix:')\n",
        "print(identity)"
      ],
      "execution_count": 11,
      "outputs": [
        {
          "output_type": "stream",
          "text": [
            "3x3 matrix:\n",
            "[[1. 0. 0.]\n",
            " [0. 1. 0.]\n",
            " [0. 0. 1.]]\n"
          ],
          "name": "stdout"
        }
      ]
    },
    {
      "cell_type": "markdown",
      "metadata": {
        "id": "RUNHAWPQLqbb"
      },
      "source": [
        "\n",
        "\n",
        "---\n",
        "\n"
      ]
    },
    {
      "cell_type": "markdown",
      "metadata": {
        "id": "4wxUoTb1LrUy"
      },
      "source": [
        "11. Create a 3x3x3 array with random values\n"
      ]
    },
    {
      "cell_type": "code",
      "metadata": {
        "colab": {
          "base_uri": "https://localhost:8080/"
        },
        "id": "dGKwA2S2LuzZ",
        "outputId": "acc924a6-6943-4b03-b5e9-b280221f82bc"
      },
      "source": [
        "rand = np.random.random((3,3,3))\n",
        "print(rand)"
      ],
      "execution_count": 12,
      "outputs": [
        {
          "output_type": "stream",
          "text": [
            "[[[0.64334948 0.7195514  0.40042182]\n",
            "  [0.61799027 0.50935301 0.02094398]\n",
            "  [0.79864927 0.73208846 0.5774041 ]]\n",
            "\n",
            " [[0.56303534 0.60734271 0.59960112]\n",
            "  [0.27617786 0.31535429 0.90364957]\n",
            "  [0.12798399 0.5341098  0.97019192]]\n",
            "\n",
            " [[0.61884148 0.51243388 0.68624487]\n",
            "  [0.67216004 0.11475884 0.77584008]\n",
            "  [0.89868916 0.04784408 0.80474741]]]\n"
          ],
          "name": "stdout"
        }
      ]
    },
    {
      "cell_type": "markdown",
      "metadata": {
        "id": "MgfW-iK1MMGw"
      },
      "source": [
        "\n",
        "\n",
        "---\n",
        "\n"
      ]
    },
    {
      "cell_type": "markdown",
      "metadata": {
        "id": "hoAjCY7oMNPO"
      },
      "source": [
        "12. Create a 10x10 array with random values and find the minimum and maximum values"
      ]
    },
    {
      "cell_type": "code",
      "metadata": {
        "colab": {
          "base_uri": "https://localhost:8080/"
        },
        "id": "Tv-IQlubMXvz",
        "outputId": "690efaa9-03e0-4fc2-a958-cf83699035e7"
      },
      "source": [
        "rand1 = np.random.random((10,10))\n",
        "print(rand1)\n",
        "print(\"Minimum:\", rand1.min())\n",
        "print(\"Minimum:\", rand1.max())"
      ],
      "execution_count": 13,
      "outputs": [
        {
          "output_type": "stream",
          "text": [
            "[[0.73526766 0.61206464 0.23878468 0.28364466 0.81713374 0.1726653\n",
            "  0.7585965  0.94686751 0.70206854 0.98679309]\n",
            " [0.20751021 0.10122837 0.36420293 0.47949946 0.94492549 0.87725822\n",
            "  0.05343667 0.68204525 0.47504818 0.04244601]\n",
            " [0.75346693 0.28575717 0.83359386 0.55695024 0.89019643 0.85157128\n",
            "  0.05075558 0.30268349 0.95567639 0.36810339]\n",
            " [0.62708515 0.19143832 0.78449937 0.66899869 0.99756291 0.16365936\n",
            "  0.72629212 0.28647736 0.7553017  0.95033891]\n",
            " [0.07916212 0.09595313 0.07093148 0.57191188 0.38148484 0.51027691\n",
            "  0.65801224 0.15320849 0.19278678 0.2838837 ]\n",
            " [0.46766654 0.56087635 0.24890614 0.65132484 0.14044388 0.32820851\n",
            "  0.57103664 0.6028706  0.57747773 0.5678836 ]\n",
            " [0.42529032 0.63133228 0.50566431 0.19370993 0.18388204 0.59690129\n",
            "  0.42246549 0.08768447 0.80385115 0.78158742]\n",
            " [0.81052115 0.50433827 0.88014704 0.13312401 0.34501529 0.71831995\n",
            "  0.02622765 0.59013388 0.30035718 0.45601409]\n",
            " [0.08603948 0.52577233 0.44901388 0.4380446  0.75001812 0.02913081\n",
            "  0.5196275  0.47393194 0.14101345 0.04677578]\n",
            " [0.80107383 0.25740045 0.12359001 0.43679134 0.56011281 0.30252512\n",
            "  0.01334329 0.68159539 0.16250634 0.52768403]]\n",
            "Minimum: 0.013343294883106815\n",
            "Minimum: 0.9975629120468149\n"
          ],
          "name": "stdout"
        }
      ]
    },
    {
      "cell_type": "markdown",
      "metadata": {
        "id": "qJEGmKX7MVWs"
      },
      "source": [
        "\n",
        "\n",
        "---\n",
        "\n"
      ]
    },
    {
      "cell_type": "markdown",
      "metadata": {
        "id": "vd6LHjNMMrNC"
      },
      "source": [
        "13. Create a random vector of size 30 and find the mean value"
      ]
    },
    {
      "cell_type": "code",
      "metadata": {
        "colab": {
          "base_uri": "https://localhost:8080/"
        },
        "id": "vmFRKJgjMven",
        "outputId": "efdeb4c4-b6dc-430d-f649-4f05dd1c2472"
      },
      "source": [
        "Z = np.random.random(30)\n",
        "m = Z.mean()\n",
        "print(m)"
      ],
      "execution_count": 14,
      "outputs": [
        {
          "output_type": "stream",
          "text": [
            "0.5470782373332874\n"
          ],
          "name": "stdout"
        }
      ]
    },
    {
      "cell_type": "markdown",
      "metadata": {
        "id": "YfTli_AzOQUM"
      },
      "source": [
        "\n",
        "\n",
        "---\n",
        "\n"
      ]
    },
    {
      "cell_type": "markdown",
      "metadata": {
        "id": "nP97hNSlORhl"
      },
      "source": [
        "14. Create a 2d array with 1 on the border and 0 inside"
      ]
    },
    {
      "cell_type": "code",
      "metadata": {
        "colab": {
          "base_uri": "https://localhost:8080/"
        },
        "id": "gP-qMYXzOZuO",
        "outputId": "383d3090-ccf5-4b8c-985a-fa6c5b5e8297"
      },
      "source": [
        "ar = np.ones((10,10))\n",
        "ar[1:-1, 1:-1] = 0\n",
        "print(ar)"
      ],
      "execution_count": 15,
      "outputs": [
        {
          "output_type": "stream",
          "text": [
            "[[1. 1. 1. 1. 1. 1. 1. 1. 1. 1.]\n",
            " [1. 0. 0. 0. 0. 0. 0. 0. 0. 1.]\n",
            " [1. 0. 0. 0. 0. 0. 0. 0. 0. 1.]\n",
            " [1. 0. 0. 0. 0. 0. 0. 0. 0. 1.]\n",
            " [1. 0. 0. 0. 0. 0. 0. 0. 0. 1.]\n",
            " [1. 0. 0. 0. 0. 0. 0. 0. 0. 1.]\n",
            " [1. 0. 0. 0. 0. 0. 0. 0. 0. 1.]\n",
            " [1. 0. 0. 0. 0. 0. 0. 0. 0. 1.]\n",
            " [1. 0. 0. 0. 0. 0. 0. 0. 0. 1.]\n",
            " [1. 1. 1. 1. 1. 1. 1. 1. 1. 1.]]\n"
          ],
          "name": "stdout"
        }
      ]
    },
    {
      "cell_type": "markdown",
      "metadata": {
        "id": "guSCaWr3OmK0"
      },
      "source": [
        "\n",
        "\n",
        "---\n",
        "\n"
      ]
    },
    {
      "cell_type": "markdown",
      "metadata": {
        "id": "qEIRpQ2yOnaR"
      },
      "source": [
        "15. How to add a border (filled with 0's) around an existing array? "
      ]
    },
    {
      "cell_type": "code",
      "metadata": {
        "colab": {
          "base_uri": "https://localhost:8080/"
        },
        "id": "T767eagtOt92",
        "outputId": "1b8ea5e8-94a7-4f56-8c4b-ec1af8ef4fd6"
      },
      "source": [
        "import numpy as np\n",
        "x = np.ones((3,3))\n",
        "print(\"Original array:\")\n",
        "print(x)\n",
        "print(\"0 on the border and 1 inside in the array\")\n",
        "x = np.pad(x, pad_width=1, mode='constant', constant_values=0)\n",
        "print(x)"
      ],
      "execution_count": 16,
      "outputs": [
        {
          "output_type": "stream",
          "text": [
            "Original array:\n",
            "[[1. 1. 1.]\n",
            " [1. 1. 1.]\n",
            " [1. 1. 1.]]\n",
            "0 on the border and 1 inside in the array\n",
            "[[0. 0. 0. 0. 0.]\n",
            " [0. 1. 1. 1. 0.]\n",
            " [0. 1. 1. 1. 0.]\n",
            " [0. 1. 1. 1. 0.]\n",
            " [0. 0. 0. 0. 0.]]\n"
          ],
          "name": "stdout"
        }
      ]
    },
    {
      "cell_type": "markdown",
      "metadata": {
        "id": "lqHZiNJrPmFF"
      },
      "source": [
        "\n",
        "\n",
        "---\n",
        "\n"
      ]
    },
    {
      "cell_type": "markdown",
      "metadata": {
        "id": "LI36lWnZPxDx"
      },
      "source": [
        "\n",
        "16. How to Accessing/Changing specific elements, rows, columns, etc in Numpy array?\n",
        "\n",
        "Example -\n",
        "[[ 1 2 3 4 5 6 7] [ 8 9 10 11 12 13 14]]\n",
        "\n",
        "Get 13, get first row only, get 3rd column only, get [2, 4, 6], replace 13 by 20"
      ]
    },
    {
      "cell_type": "code",
      "metadata": {
        "colab": {
          "base_uri": "https://localhost:8080/"
        },
        "id": "5gPcWrvdPtsn",
        "outputId": "a3d6241c-5a19-4a2f-f9c8-70abc6339e0a"
      },
      "source": [
        "import numpy as np\n",
        "arr1 = np.arange(1,15).reshape(2,7)\n",
        "print(arr1)\n",
        "\n",
        "# get 13\n",
        "arr1[1,-2]\n",
        "\n",
        "# replace 13 by 20\n",
        "print('Before replacing :\\n', arr1)\n",
        "arr1[1,-2] = 20\n",
        "print('\\nAfter replacing :\\n', arr1)"
      ],
      "execution_count": 17,
      "outputs": [
        {
          "output_type": "stream",
          "text": [
            "[[ 1  2  3  4  5  6  7]\n",
            " [ 8  9 10 11 12 13 14]]\n",
            "Before replacing :\n",
            " [[ 1  2  3  4  5  6  7]\n",
            " [ 8  9 10 11 12 13 14]]\n",
            "\n",
            "After replacing :\n",
            " [[ 1  2  3  4  5  6  7]\n",
            " [ 8  9 10 11 12 20 14]]\n"
          ],
          "name": "stdout"
        }
      ]
    },
    {
      "cell_type": "code",
      "metadata": {
        "colab": {
          "base_uri": "https://localhost:8080/"
        },
        "id": "pmRsXJ_UGOKN",
        "outputId": "a3bfe6fb-d23f-41ba-f3b5-c54d66efc3bd"
      },
      "source": [
        "#get first row only\n",
        "arr1[0,:]"
      ],
      "execution_count": 18,
      "outputs": [
        {
          "output_type": "execute_result",
          "data": {
            "text/plain": [
              "array([1, 2, 3, 4, 5, 6, 7])"
            ]
          },
          "metadata": {
            "tags": []
          },
          "execution_count": 18
        }
      ]
    },
    {
      "cell_type": "code",
      "metadata": {
        "colab": {
          "base_uri": "https://localhost:8080/"
        },
        "id": "eOp4fQUMGSKU",
        "outputId": "ccd2070b-f4e2-46c9-ab2c-df0373168a21"
      },
      "source": [
        "#get 3rd column only\n",
        "arr1[:,2]"
      ],
      "execution_count": 19,
      "outputs": [
        {
          "output_type": "execute_result",
          "data": {
            "text/plain": [
              "array([ 3, 10])"
            ]
          },
          "metadata": {
            "tags": []
          },
          "execution_count": 19
        }
      ]
    },
    {
      "cell_type": "code",
      "metadata": {
        "colab": {
          "base_uri": "https://localhost:8080/"
        },
        "id": "woU03X-iGZez",
        "outputId": "99634afe-60f3-41bd-eae2-0604e76e1d72"
      },
      "source": [
        "# get [2, 4, 6],\n",
        "arr1[0,1::2]"
      ],
      "execution_count": 20,
      "outputs": [
        {
          "output_type": "execute_result",
          "data": {
            "text/plain": [
              "array([2, 4, 6])"
            ]
          },
          "metadata": {
            "tags": []
          },
          "execution_count": 20
        }
      ]
    },
    {
      "cell_type": "markdown",
      "metadata": {
        "id": "lh1yAIG4UFUh"
      },
      "source": [
        "\n",
        "\n",
        "---\n",
        "\n"
      ]
    },
    {
      "cell_type": "markdown",
      "metadata": {
        "id": "D4__E98qUGRR"
      },
      "source": [
        "17. How to Convert a 1D array to a 2D array with 2 rows"
      ]
    },
    {
      "cell_type": "code",
      "metadata": {
        "colab": {
          "base_uri": "https://localhost:8080/"
        },
        "id": "_xuLLa_Cagqz",
        "outputId": "ec958ab0-7ddf-43ec-e271-0536b91f3651"
      },
      "source": [
        "k = np.array([[1,2,3], [10,20,30]])\n",
        "k.reshape(2,3)"
      ],
      "execution_count": 21,
      "outputs": [
        {
          "output_type": "execute_result",
          "data": {
            "text/plain": [
              "array([[ 1,  2,  3],\n",
              "       [10, 20, 30]])"
            ]
          },
          "metadata": {
            "tags": []
          },
          "execution_count": 21
        }
      ]
    },
    {
      "cell_type": "markdown",
      "metadata": {
        "id": "i2xHbnssavYy"
      },
      "source": [
        "\n",
        "\n",
        "---\n",
        "\n"
      ]
    },
    {
      "cell_type": "markdown",
      "metadata": {
        "id": "gfd0dQTvawh-"
      },
      "source": [
        "18. Create the following pattern without hardcoding. Use only numpy functions and the below input array a.\n",
        "\n",
        "Input:\n",
        "\n",
        "a = np.array([1,2,3])\n",
        "\n",
        "Desired Output:\n",
        "\n",
        "array([1, 1, 1, 2, 2, 2, 3, 3, 3, 1, 2, 3, 1, 2, 3, 1, 2, 3])"
      ]
    },
    {
      "cell_type": "code",
      "metadata": {
        "id": "WDwNocg4a5P0",
        "colab": {
          "base_uri": "https://localhost:8080/"
        },
        "outputId": "d8201315-355d-44eb-be4b-28f0a7fb6602"
      },
      "source": [
        "pattern = np.array([1,2,3])\n",
        "print(pattern)\n",
        "pattern = np.append(np.repeat(pattern,3),np.tile(pattern,3))\n",
        "print(pattern)"
      ],
      "execution_count": 27,
      "outputs": [
        {
          "output_type": "stream",
          "text": [
            "[1 2 3]\n",
            "[1 1 1 2 2 2 3 3 3 1 2 3 1 2 3 1 2 3]\n"
          ],
          "name": "stdout"
        }
      ]
    },
    {
      "cell_type": "markdown",
      "metadata": {
        "id": "ydGOi2Pxa6No"
      },
      "source": [
        "\n",
        "\n",
        "---\n",
        "\n"
      ]
    },
    {
      "cell_type": "markdown",
      "metadata": {
        "id": "cYq8lzO9a7HO"
      },
      "source": [
        "19. Write a program to show how Numpy taking less memory compared to Python List?"
      ]
    },
    {
      "cell_type": "code",
      "metadata": {
        "colab": {
          "base_uri": "https://localhost:8080/"
        },
        "id": "JJQD1IZja_Vx",
        "outputId": "ec3e994d-e8e1-463b-a855-a3f8c66153c6"
      },
      "source": [
        "import sys\n",
        "l = range(1000)\n",
        "b=10\n",
        "print(sys.getsizeof(b))\n",
        "print(\"Memory in list:\", sys.getsizeof(b)*len(l))\n",
        "\n",
        "b1 = np.arange(1000)\n",
        "print(\"Memory in numpy:\", b1.size*b1.itemsize)"
      ],
      "execution_count": 23,
      "outputs": [
        {
          "output_type": "stream",
          "text": [
            "28\n",
            "Memory in list: 28000\n",
            "Memory in numpy: 8000\n"
          ],
          "name": "stdout"
        }
      ]
    },
    {
      "cell_type": "markdown",
      "metadata": {
        "id": "nwTPf9LjbHQU"
      },
      "source": [
        "\n",
        "\n",
        "---\n",
        "\n"
      ]
    },
    {
      "cell_type": "markdown",
      "metadata": {
        "id": "cXRtwOGdbIfe"
      },
      "source": [
        "20. Write a program to show how Numpy taking less time compared to Python List?"
      ]
    },
    {
      "cell_type": "code",
      "metadata": {
        "colab": {
          "base_uri": "https://localhost:8080/"
        },
        "id": "gAqIGkO7bOLq",
        "outputId": "1e9b1caf-b86c-4144-f69e-2947aec6dd69"
      },
      "source": [
        "import sys\n",
        "import time\n",
        "\n",
        "size = 1000000\n",
        "l1=range(size)\n",
        "l2=range(size)\n",
        "\n",
        "n1=np.arange(size)\n",
        "n2=np.arange(size)\n",
        "\n",
        "start = time.time()\n",
        "result = [(x+y) for x,y in zip(l1,l2)]\n",
        "print(\"Time taken in list:\", (time.time()-start)*1000)\n",
        "\n",
        "start = time.time()\n",
        "result1=n1+n2\n",
        "print(\"Time taken in numpy:\", (time.time()-start)*1000)"
      ],
      "execution_count": 24,
      "outputs": [
        {
          "output_type": "stream",
          "text": [
            "Time taken in list: 136.75284385681152\n",
            "Time taken in numpy: 4.689216613769531\n"
          ],
          "name": "stdout"
        }
      ]
    },
    {
      "cell_type": "markdown",
      "metadata": {
        "id": "0htQ9Z6wbtmg"
      },
      "source": [
        "\n",
        "\n",
        "---\n",
        "\n"
      ]
    }
  ]
}